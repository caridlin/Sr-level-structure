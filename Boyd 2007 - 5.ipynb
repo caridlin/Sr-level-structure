{
 "cells": [
  {
   "cell_type": "code",
   "execution_count": 1,
   "metadata": {
    "collapsed": true
   },
   "outputs": [],
   "source": [
    "from IPython.display import display\n",
    "\n",
    "from sympy.interactive import printing\n",
    "printing.init_printing(use_latex=True)\n",
    "\n",
    "from __future__ import division\n",
    "import sympy as sym\n",
    "from sympy import *\n",
    "\n",
    "%matplotlib inline\n",
    "from matplotlib import rc\n",
    "rc('font',**{'family':'serif','size'   : 12})"
   ]
  },
  {
   "cell_type": "markdown",
   "metadata": {},
   "source": [
    "#  Pure spin-orbit state mixing"
   ]
  },
  {
   "cell_type": "markdown",
   "metadata": {},
   "source": [
    "Mix the states with the same $L$ (and $m_L$) and the same elctron configuration $\\mid 5s5p \\rangle$\n",
    "\n",
    "LHS: mixed spin-orbit states, RHS: pure spin-orbit states\n",
    "\n",
    "$\\mid ^3 P_0 \\rangle = \\mid ^3 P^0_0 \\rangle$\n",
    "\n",
    "$\\mid ^3 P_1 \\rangle = \\alpha \\mid ^3 P_1^0 \\rangle + \\beta \\mid ^1 P_1^0 \\rangle$\n",
    "\n",
    "$\\mid ^3 P_2 \\rangle = \\mid ^3 P_2^0 \\rangle$\n",
    "\n",
    "$\\mid ^1 P_1 \\rangle = -\\beta \\mid ^3 P_1^0 \\rangle + \\alpha \\mid ^1P_1^0 \\rangle$\n",
    "\n",
    "The intermediate coupling coefficients are determined by\n",
    "\n",
    "$\\frac{\\alpha^2}{\\beta^2} = \\frac{\\tau^{^3P_1}}{\\tau^{^1P_1}} (\\frac{\\nu^{^3P1}}{\\nu^{^1P1}})^3$, $\\alpha^2 + \\beta^2 = 1$"
   ]
  },
  {
   "cell_type": "code",
   "execution_count": 2,
   "metadata": {
    "collapsed": false
   },
   "outputs": [
    {
     "name": "stdout",
     "output_type": "stream",
     "text": [
      "(0.9995940880788805, -0.028489631056776547)\n"
     ]
    }
   ],
   "source": [
    "# Ratio of (alpha/beta)^2, according to Stellmer\n",
    "from math import sqrt\n",
    "from __future__ import division\n",
    "c = (434829 / 650504)**3 * (30.5 / 0.0074)\n",
    "\n",
    "# The beta coefficient is negative, according to Boyd 2007\n",
    "beta = - sqrt(1 / (1 + c))\n",
    "alpha = sqrt(c / (1 + c))\n",
    "print (alpha, beta)"
   ]
  },
  {
   "cell_type": "markdown",
   "metadata": {},
   "source": [
    "# Hyperfine state mixing"
   ]
  },
  {
   "cell_type": "code",
   "execution_count": 3,
   "metadata": {
    "collapsed": false
   },
   "outputs": [
    {
     "name": "stdout",
     "output_type": "stream",
     "text": [
      "(0.000199804859091549, -9.69630256367083e-06, -1e-06)\n"
     ]
    }
   ],
   "source": [
    "alpha_0 = 2E-4\n",
    "beta_0 = -4E-6\n",
    "gamma_0 = -1E-6\n",
    "alpha_1 = alpha_0 * alpha - beta_0 * beta\n",
    "beta_1 = alpha_0 * beta + beta_0 * alpha\n",
    "gamma_1 = gamma_0\n",
    "print (alpha_1, beta_1, gamma_1)"
   ]
  },
  {
   "cell_type": "markdown",
   "metadata": {},
   "source": [
    "The lifetime of $^3P_0$ is given by\n",
    "\n",
    "$\\tau^{^3P_0} = (\\frac{\\lambda^{^3P_0 - ^1S_0}}{\\lambda^{^3P_1 - ^1S_0}})^3 \\frac{\\beta^2}{(\\alpha_0 \\beta + \\beta_0 \\alpha)^2} \\tau^{^3P_1}$\n",
    "\n",
    "which is 193 seconds"
   ]
  },
  {
   "cell_type": "code",
   "execution_count": 4,
   "metadata": {
    "collapsed": false
   },
   "outputs": [
    {
     "data": {
      "image/png": "[encoded data removed]",
      "text/latex": [
       "$$193.044906295$$"
      ],
      "text/plain": [
       "193.044906295"
      ]
     },
     "execution_count": 4,
     "metadata": {},
     "output_type": "execute_result"
    }
   ],
   "source": [
    "from math import pi\n",
    "(698 / 689)**3 * (beta / (alpha_0 * beta + beta_0 * alpha))**2 * 1 / (2 * pi * 7400)"
   ]
  },
  {
   "cell_type": "markdown",
   "metadata": {},
   "source": [
    "We already have\n",
    "\n",
    "$\\mid ^3 P_0 \\rangle = \\mid ^3 P_0^0 \\rangle + (\\alpha_0 \\alpha - \\beta_0 \\beta) \\mid ^3 P_1^0 \\rangle + (\\alpha_0 \\beta + \\beta_0 \\alpha) \\mid ^1 P_1^0 \\rangle + \\gamma_0 \\mid ^3 P_2^0 \\rangle = \\mid ^3 P_0^0 \\rangle + \\alpha_1 \\mid ^3 P_1^0 \\rangle + \\beta_1 \\mid ^1 P_1^0 \\rangle + \\gamma_1 \\mid ^3 P_2^0 \\rangle$\n",
    "\n",
    "And ignore higher order of hyperfine mixing\n",
    "\n",
    "$\\mid ^3 P_1 \\rangle = \\alpha \\mid ^3 P_1^0 \\rangle + \\beta \\mid ^1 P_1^0 \\rangle$\n",
    "\n",
    "$\\mid ^3 P_2 \\rangle = \\mid ^3 P_2^0 \\rangle$\n",
    "\n",
    "$\\mid ^1 P_1 \\rangle = -\\beta \\mid ^3 P_1^0 \\rangle + \\alpha \\mid ^1P_1^0 \\rangle$"
   ]
  },
  {
   "cell_type": "markdown",
   "metadata": {},
   "source": [
    "# Hyperfine coupling"
   ]
  },
  {
   "cell_type": "markdown",
   "metadata": {},
   "source": [
    "The magnetic dipole ($A$) and electric quadrupole ($Q$) contributions to the hyperfine interaction are\n",
    "\n",
    "$H_A = A \\vec{I} \\cdot \\vec{J}$\n",
    "\n",
    "$H_Q = Q \\frac{\\frac{3}{2} \\vec{I} \\cdot \\vec{J} (2 \\vec{I} \\cdot \\vec{J} + 1) - IJ(I+1) (J+1)}{2IJ(2I-1)(2J-1)}$\n",
    "\n",
    "Basically they couple states with the same $F$ ($\\vec{F} = \\vec{I} + \\vec{J}$) and $m_F$. For these excited states,\n",
    "\n",
    "\n",
    "$\\mid ^3 P_1 \\rangle: A = -260$ MHz, $Q = -35 $MHz\n",
    "\n",
    "$\\mid ^3 P_2 \\rangle: A = -212 $ MHz, $Q = 67 $MHz \n",
    "\n",
    "$\\mid ^1 P_1 \\rangle: A = -3.4 $ MHz, $Q = 39$ MHz "
   ]
  },
  {
   "cell_type": "code",
   "execution_count": 5,
   "metadata": {
    "collapsed": true
   },
   "outputs": [],
   "source": [
    "# In units of MHz\n",
    "A_3P1 = -260\n",
    "Q_3P1 = -35\n",
    "A_3P2 = -212\n",
    "Q_3P2 = 67\n",
    "A_1P1 = -3.4\n",
    "Q_1P1 = 39"
   ]
  },
  {
   "cell_type": "markdown",
   "metadata": {},
   "source": [
    "# Zeeman interaction with external magnetic field"
   ]
  },
  {
   "cell_type": "markdown",
   "metadata": {},
   "source": [
    "$H_z = (g_S S_z + g_L L_z - g_I I_z) \\mu_0 B$\n",
    "\n",
    "where $g_S = 2, g_L = 1, g_I = \\frac{\\mu_I (1-\\sigma_d)}{\\mu_0 I}$\n",
    "\n",
    "For $^{87} Sr$, $\\mu_I = -1.09247 \\mu_N, \\sigma_d = 0.00345$ ($\\sigma_d$ diamagnetic correction)"
   ]
  },
  {
   "cell_type": "markdown",
   "metadata": {},
   "source": [
    "Then the full treatment including Zeeman interactions and HFI is\n",
    "\n",
    "$H = H_Z + H_A + H_Q$\n",
    "\n",
    "we assume these interactions are smaller than the fine structure such that we can use the spin-orbit mixed states as a basis."
   ]
  },
  {
   "cell_type": "markdown",
   "metadata": {},
   "source": [
    "# Clebsch-Gordan coefficients"
   ]
  },
  {
   "cell_type": "markdown",
   "metadata": {},
   "source": [
    "## 1. Fine structure"
   ]
  },
  {
   "cell_type": "markdown",
   "metadata": {},
   "source": [
    "We first express the pure spin-orbit states $\\mid ^{2S + 1} P _ J ^0, m_J \\rangle$ as a superposition of $\\mid ^{2S + 1} P _ J ^0, m_S, m_L \\rangle$ states using CG coefficients\n",
    "\n",
    "$\\mid ^{2S + 1} P _ J ^0, m_J \\rangle = \\sum_{m_S, m_L} C^{J, m_J}_{S, m_S, L, m_L} \\mid ^{2S + 1} P _ J ^0, m_S, m_L \\rangle$\n",
    "\n",
    "Explicitly, we have\n",
    "\n",
    "$\\mid ^{3} P _ 0 ^0,  0\\rangle = \\mid ^{3} P _ 0 ^0, 0, 0 \\rangle$\n",
    "\n",
    "\n",
    "--------------------\n",
    "\n",
    "$\\mid ^{3} P _ 1 ^0, 1 \\rangle = \\frac{1}{\\sqrt{2}}(\\mid ^{3} P _ 1 ^0, 1, 0 \\rangle - \\mid ^{3} P _ 1 ^0, 0, 1 \\rangle)$\n",
    "\n",
    "$\\mid ^{3} P _ 1 ^0, 0 \\rangle = \\frac{1}{\\sqrt{2}}(\\mid ^{3} P _ 1 ^0, 1, -1 \\rangle - \\mid ^{3} P _ 1 ^0, -1, 1 \\rangle)$\n",
    "\n",
    "$\\mid ^{3} P _ 1 ^0, -1 \\rangle = \\frac{1}{\\sqrt{2}}(\\mid ^{3} P _ 1 ^0, -1, 0 \\rangle - \\mid ^{3} P _ 1 ^0, 0, -1 \\rangle)$\n",
    "\n",
    "------------------\n",
    "\n",
    "$\\mid ^{3} P _ 2 ^0, 2 \\rangle = \\mid ^{3} P _ 2 ^0, 1, 1 \\rangle $\n",
    "\n",
    "$\\mid ^{3} P _ 2 ^0, 1 \\rangle = \\frac{1}{\\sqrt{2}}(\\mid ^{3} P _ 2 ^0, 1, 0 \\rangle + \\mid ^{3} P _ 2 ^0, 0, 1 \\rangle)$\n",
    "\n",
    "$\\mid ^{3} P _ 2 ^0, 0 \\rangle = \\frac{\\sqrt{2}}{\\sqrt{3}}\\mid ^{3} P _ 2 ^0, 0, 0 \\rangle + \\frac{1}{\\sqrt{6}}\\mid ^{3} P _ 2 ^0, 1, -1 \\rangle + \\frac{1}{\\sqrt{6}}\\mid ^{3} P _ 2 ^0, -1, 1 \\rangle$\n",
    "\n",
    "$\\mid ^{3} P _ 2 ^0, -1 \\rangle = \\frac{1}{\\sqrt{2}}(\\mid ^{3} P _ 2 ^0, -1, 0 \\rangle + \\mid ^{3} P _ 2 ^0, 0, -1 \\rangle)$\n",
    "\n",
    "$\\mid ^{3} P _ 2 ^0, -2 \\rangle = \\mid ^{3} P _ 2 ^0, -1, -1 \\rangle $\n",
    "\n",
    "--------------------\n",
    "\n",
    "$\\mid ^{1} P _ 1 ^0, 1 \\rangle = \\mid ^{1} P _ 1 ^0, 0, 1 \\rangle $\n",
    "\n",
    "$\\mid ^{1} P _ 1 ^0, 0 \\rangle = \\mid ^{1} P _ 1 ^0, 0, 1 \\rangle $\n",
    "\n",
    "$\\mid ^{1} P _ 1 ^0, -1 \\rangle = \\mid ^{1} P _ 1 ^0, 0, -1 \\rangle$"
   ]
  },
  {
   "cell_type": "markdown",
   "metadata": {},
   "source": [
    "For the mixed spin-orbit states, we have\n",
    "\n",
    "$\\mid ^{3} P _ 0,  0\\rangle = \\mid ^{3} P _ 0 ^0, 0, 0 \\rangle$\n",
    "\n",
    "\n",
    "--------------------\n",
    "\n",
    "$\\mid ^{3} P _ 1, 1 \\rangle = \\frac{\\alpha}{\\sqrt{2}}(\\mid ^{3} P _ 1 ^0, 1, 0 \\rangle - \\mid ^{3} P _ 1 ^0, 0, 1 \\rangle) + \\beta \\mid ^{1} P _ 1 ^0, 0, 1 \\rangle$\n",
    "\n",
    "$\\mid ^{3} P _ 1, 0 \\rangle = \\frac{\\alpha}{\\sqrt{2}}(\\mid ^{3} P _ 1 ^0, 1, -1 \\rangle - \\mid ^{3} P _ 1 ^0, -1, 1 \\rangle) + \\beta \\mid ^{1} P _ 1 ^0, 0, 0 \\rangle$\n",
    "\n",
    "$\\mid ^{3} P _ 1, -1 \\rangle = \\frac{\\alpha}{\\sqrt{2}}(\\mid ^{3} P _ 1 ^0, -1, 0 \\rangle - \\mid ^{3} P _ 1 ^0, 0, -1 \\rangle) + \\beta \\mid ^{1} P _ 1 ^0, 0, -1 \\rangle$\n",
    "\n",
    "------------------\n",
    "\n",
    "$\\mid ^{3} P _ 2 , 2 \\rangle = \\mid ^{3} P _ 2 ^0, 1, 1 \\rangle $\n",
    "\n",
    "$\\mid ^{3} P _ 2 , 1 \\rangle = \\frac{1}{\\sqrt{2}}(\\mid ^{3} P _ 2 ^0, 1, 0 \\rangle + \\mid ^{3} P _ 2 ^0, 0, 1 \\rangle)$\n",
    "\n",
    "$\\mid ^{3} P _ 2 , 0 \\rangle = \\frac{\\sqrt{2}}{\\sqrt{3}}\\mid ^{3} P _ 2 ^0, 0, 0 \\rangle + \\frac{1}{\\sqrt{6}}\\mid ^{3} P _ 2 ^0, 1, -1 \\rangle + \\frac{1}{\\sqrt{6}}\\mid ^{3} P _ 2 ^0, -1, 1 \\rangle$\n",
    "\n",
    "$\\mid ^{3} P _ 2 , -1 \\rangle = \\frac{1}{\\sqrt{2}}(\\mid ^{3} P _ 2 ^0, -1, 0 \\rangle + \\mid ^{3} P _ 2 ^0, 0, -1 \\rangle)$\n",
    "\n",
    "$\\mid ^{3} P _ 2 , -2 \\rangle = \\mid ^{3} P _ 2 ^0, -1, -1 \\rangle $\n",
    "\n",
    "--------------------\n",
    "\n",
    "$\\mid ^{1} P _ 1, 1 \\rangle = -\\frac{\\beta}{\\sqrt{2}}(\\mid ^{3} P _ 1 ^0, 1, 0 \\rangle - \\mid ^{3} P _ 1 ^0, 0, 1 \\rangle) + \\alpha \\mid ^{1} P _ 1 ^0, 0, 1 \\rangle$\n",
    "\n",
    "$\\mid ^{1} P _ 1, 0 \\rangle = -\\frac{\\beta}{\\sqrt{2}}(\\mid ^{3} P _ 1 ^0, 1, -1 \\rangle - \\mid ^{3} P _ 1 ^0, -1, 1 \\rangle) + \\alpha \\mid ^{1} P _ 1 ^0, 0, 0 \\rangle$\n",
    "\n",
    "$\\mid ^{1} P _ 1, -1 \\rangle = -\\frac{\\beta}{\\sqrt{2}}(\\mid ^{3} P _ 1 ^0, -1, 0 \\rangle - \\mid ^{3} P _ 1 ^0, 0, -1 \\rangle) + \\alpha \\mid ^{1} P _ 1 ^0, 0, -1 \\rangle$"
   ]
  },
  {
   "cell_type": "code",
   "execution_count": 6,
   "metadata": {
    "collapsed": false
   },
   "outputs": [
    {
     "name": "stdout",
     "output_type": "stream",
     "text": [
      "sqrt(330)/55\n",
      "2*sqrt(385)/55\n",
      "sqrt(1155)/55\n"
     ]
    }
   ],
   "source": [
    "from sympy.physics.quantum.cg import CG\n",
    "from sympy import S\n",
    "for s in [-1, 0, 1]:\n",
    "    cg = CG(1, s, S(9)/2, S(3)/2 - s, S(11)/2, S(3)/2)\n",
    "    print cg.doit()"
   ]
  },
  {
   "cell_type": "code",
   "execution_count": 7,
   "metadata": {
    "collapsed": false
   },
   "outputs": [
    {
     "name": "stdout",
     "output_type": "stream",
     "text": [
      "[[-0.70710678  0.70710678  0.        ]\n",
      " [-0.70710678  0.          0.70710678]\n",
      " [ 0.         -0.70710678  0.70710678]]\n",
      "[[('3P0', 1.0, 1.0, -1.0, 1.0, 0.0, 0.0)\n",
      "  ('3P0', 1.0, 1.0, 0.0, 0.0, 0.0, 0.0)\n",
      "  ('3P0', 1.0, 1.0, 1.0, -1.0, 0.0, 0.0)]]\n"
     ]
    }
   ],
   "source": [
    "# CG coefficients\n",
    "\n",
    "from sympy.physics.quantum.cg import CG\n",
    "from sympy import S\n",
    "from numpy import zeros, ones, array\n",
    "\n",
    "# 3P1 states.\n",
    "CG_3P1 = zeros((3,3))\n",
    "CG_3P2 = zeros((5,3))\n",
    "CG_1P1 = zeros((3,1))\n",
    "CG_3P0 = zeros((1,3))\n",
    "\n",
    "# 3P1, S, L, m_S, m_L, J, m_J\n",
    "Eigen_3P1 = zeros((3,3),dtype='S3, d, d, d, d, d, d')\n",
    "Eigen_3P2 = zeros((5,3),dtype='S3, d, d, d, d, d, d')\n",
    "Eigen_1P1 = zeros((3,1),dtype='S3, d, d, d, d, d, d')\n",
    "Eigen_3P0 = zeros((1,3),dtype='S3, d, d, d, d, d, d')\n",
    "\n",
    "CGcoefficients1 = [CG_3P1, CG_3P2, CG_1P1, CG_3P0]\n",
    "Eigenvalues1 = [Eigen_3P1, Eigen_3P2, Eigen_1P1, Eigen_3P0]\n",
    "Index1 = ['3P1', '3P2', '1P1', '3P0']\n",
    "\n",
    "\n",
    "# 3P1 states\n",
    "# (m, n) indexes, (j, s) = (m_J, m_S)\n",
    "for m, j in enumerate(range(-1, 2, 1)):\n",
    "    for n, s in enumerate(range(-1, 2, 1)):\n",
    "        cg = CG(1, s, 1, j - s, 1, j)\n",
    "        CGcoefficients1[0][m][n] = cg.doit()\n",
    "        Eigenvalues1[0][m][n][0] = '3P1'\n",
    "        Eigenvalues1[0][m][n][1] = 1\n",
    "        Eigenvalues1[0][m][n][2] = 1\n",
    "        Eigenvalues1[0][m][n][3] = s\n",
    "        Eigenvalues1[0][m][n][4] = j - s\n",
    "        Eigenvalues1[0][m][n][5] = 1\n",
    "        Eigenvalues1[0][m][n][6] = j\n",
    "            \n",
    "# 3P2 states\n",
    "for m, j in enumerate(range(-2, 3, 1)):\n",
    "    for n, s in enumerate(range(-1, 2, 1)):\n",
    "        cg = CG(1, s, 1, j - s, 2, j)\n",
    "        CGcoefficients1[1][m][n] = cg.doit()\n",
    "        Eigenvalues1[1][m][n][0] = '3P2'\n",
    "        Eigenvalues1[1][m][n][1] = 1\n",
    "        Eigenvalues1[1][m][n][2] = 1\n",
    "        Eigenvalues1[1][m][n][3] = s\n",
    "        Eigenvalues1[1][m][n][4] = j - s\n",
    "        Eigenvalues1[1][m][n][5] = 2\n",
    "        Eigenvalues1[1][m][n][6] = j\n",
    "            \n",
    "\n",
    "# 1P1 states\n",
    "for m, j in enumerate(range(-1, 2, 1)):\n",
    "    cg = CG(0, 0, 1, j, 1, j)\n",
    "    CGcoefficients1[2][m][0] = cg.doit()\n",
    "    Eigenvalues1[2][m][0][0] = '1P1'\n",
    "    Eigenvalues1[2][m][0][1] = 0\n",
    "    Eigenvalues1[2][m][0][2] = 1\n",
    "    Eigenvalues1[2][m][0][3] = 0\n",
    "    Eigenvalues1[2][m][0][4] = j\n",
    "    Eigenvalues1[2][m][0][5] = 1\n",
    "    Eigenvalues1[2][m][0][6] = j\n",
    "            \n",
    "# 3P0 states\n",
    "for n, s in enumerate(range(-1, 2, 1)):\n",
    "    cg = CG(1, s, 1, -1 * s, 0, 0)\n",
    "    CGcoefficients1[3][0][n] = cg.doit()\n",
    "    Eigenvalues1[3][0][n][0] = '3P0'\n",
    "    Eigenvalues1[3][0][n][1] = 1\n",
    "    Eigenvalues1[3][0][n][2] = 1\n",
    "    Eigenvalues1[3][0][n][3] = s\n",
    "    Eigenvalues1[3][0][n][4] = -1 * s\n",
    "    Eigenvalues1[3][0][n][5] = 0\n",
    "    Eigenvalues1[3][0][n][6] = 0\n",
    "         \n",
    "print CG_3P1\n",
    "print Eigen_3P0"
   ]
  },
  {
   "cell_type": "code",
   "execution_count": 8,
   "metadata": {
    "collapsed": false
   },
   "outputs": [
    {
     "name": "stdout",
     "output_type": "stream",
     "text": [
      "[[ 0.57735027 -0.57735027  0.57735027]]\n",
      "[[('1P1', 0.0, 1.0, 0.0, -1.0, 1.0, -1.0)\n",
      "  ('3P1', 1.0, 1.0, -1.0, 0.0, 1.0, -1.0)\n",
      "  ('3P1', 1.0, 1.0, 0.0, -1.0, 1.0, -1.0)\n",
      "  ('3P1', 1.0, 1.0, 1.0, -2.0, 1.0, -1.0)]\n",
      " [('1P1', 0.0, 1.0, 0.0, 0.0, 1.0, 0.0)\n",
      "  ('3P1', 1.0, 1.0, -1.0, 1.0, 1.0, 0.0)\n",
      "  ('3P1', 1.0, 1.0, 0.0, 0.0, 1.0, 0.0)\n",
      "  ('3P1', 1.0, 1.0, 1.0, -1.0, 1.0, 0.0)]\n",
      " [('1P1', 0.0, 1.0, 0.0, 1.0, 1.0, 1.0)\n",
      "  ('3P1', 1.0, 1.0, -1.0, 2.0, 1.0, 1.0)\n",
      "  ('3P1', 1.0, 1.0, 0.0, 1.0, 1.0, 1.0)\n",
      "  ('3P1', 1.0, 1.0, 1.0, 0.0, 1.0, 1.0)]]\n"
     ]
    }
   ],
   "source": [
    "# Include spin-orbit and HF state mixing\n",
    "# Enough to calculate the 3P2 3P1 1P1 states Zeeman shift\n",
    "from numpy import concatenate\n",
    "\n",
    "CG_3P1_c = concatenate((alpha * CG_3P1, beta * CG_1P1), axis=1)\n",
    "CG_3P2_c = CG_3P2\n",
    "CG_1P1_c = concatenate((alpha * CG_1P1, -1 * beta * CG_3P1), axis=1)\n",
    "CG_3P0_c = CG_3P0\n",
    "\n",
    "Eigen_3P1_c = concatenate((Eigen_3P1, Eigen_1P1), axis=1)\n",
    "Eigen_3P2_c = Eigen_3P2\n",
    "Eigen_1P1_c = concatenate((Eigen_1P1, Eigen_3P1), axis=1)\n",
    "Eigen_3P0_c = Eigen_3P0\n",
    "\n",
    "CGcoefficients2 = [CG_3P1_c, CG_3P2_c, CG_1P1_c, CG_3P0_c]\n",
    "Eigenvalues2 = [Eigen_3P1_c, Eigen_3P2_c, Eigen_1P1_c, Eigen_3P0_c]\n",
    "Index2 = ['3P1_c', '3P2_c', '1P1_c', '3P0_c']\n",
    "\n",
    "print CG_3P0_c\n",
    "print Eigen_1P1_c"
   ]
  },
  {
   "cell_type": "markdown",
   "metadata": {},
   "source": [
    "## 2. Hyperfine structure"
   ]
  },
  {
   "cell_type": "markdown",
   "metadata": {},
   "source": [
    "Then we have\n",
    "\n",
    "$\\mid ^{2S + 1} P _ J , F, m_F \\rangle = \\sum_{m_J, m_I} C^{F, m_F}_{J, m_J, I, m_I} \\mid ^{2S + 1} P _ J, m_J, m_I \\rangle$\n",
    "\n",
    "Explicitly, we have\n",
    "\n",
    "\n",
    "$\\mid ^{3} P _ 0, \\frac{9}{2}, m_F\\rangle = \\mid ^{3} P _ 0, 0, m_F \\rangle$\n",
    "\n",
    "\n",
    "--------------------\n",
    "\n",
    "$\\mid ^{3} P _ 1, \\frac{11}{2}, \\frac{11}{2}\\rangle = \\mid ^{3} P _ 1, 1, \\frac{9}{2} \\rangle$\n",
    "\n",
    "$\\mid ^{3} P _ 1, \\frac{11}{2}, \\frac{9}{2}\\rangle = \\frac{\\sqrt{2}}{\\sqrt{11}}\\mid ^{3} P _ 1, 0, \\frac{9}{2} \\rangle + \\frac{3}{\\sqrt{11}} \\mid ^{3} P _ 1, 1, \\frac{7}{2} \\rangle $\n",
    "\n",
    "$\\mid ^{3} P _ 1, \\frac{11}{2}, \\frac{7}{2}\\rangle = \\frac{1}{\\sqrt{55}}\\mid ^{3} P _ 1, -1, \\frac{9}{2} \\rangle + \\frac{3\\sqrt{2}}{\\sqrt{55}} \\mid ^{3} P _ 1, 0, \\frac{7}{2} \\rangle+ \\frac{6}{\\sqrt{55}} \\mid ^{3} P _ 1, 1, \\frac{5}{2} \\rangle  $\n",
    "\n",
    "$\\mid ^{3} P _ 1, \\frac{11}{2}, \\frac{5}{2}\\rangle = \\frac{\\sqrt{3}}{\\sqrt{55}}\\mid ^{3} P _ 1, -1, \\frac{7}{2} \\rangle + \\frac{2\\sqrt{6}}{\\sqrt{55}} \\mid ^{3} P _ 1, 0, \\frac{5}{2} \\rangle+ \\frac{2 \\sqrt{7}}{\\sqrt{55}} \\mid ^{3} P _ 1, 1, \\frac{3}{2} \\rangle  $\n",
    "\n",
    "$\\mid ^{3} P _ 1, \\frac{11}{2}, \\frac{3}{2}\\rangle = \\frac{\\sqrt{6}}{\\sqrt{55}}\\mid ^{3} P _ 1, -1, \\frac{5}{2} \\rangle + \\frac{2\\sqrt{7}}{\\sqrt{55}} \\mid ^{3} P _ 1, 0, \\frac{3}{2} \\rangle+ \\frac{\\sqrt{21}}{\\sqrt{55}} \\mid ^{3} P _ 1, 1, \\frac{1}{2} \\rangle  $\n",
    "\n",
    "....\n",
    "\n",
    "Too complicated"
   ]
  },
  {
   "cell_type": "markdown",
   "metadata": {},
   "source": [
    "### $^3P_1$  $^3P_2$ $^1P_1$states"
   ]
  },
  {
   "cell_type": "code",
   "execution_count": 9,
   "metadata": {
    "collapsed": false
   },
   "outputs": [
    {
     "name": "stdout",
     "output_type": "stream",
     "text": [
      "CG_3P2_5\n",
      "[[ 1.]\n",
      " [ 1.]\n",
      " [ 1.]\n",
      " [ 1.]\n",
      " [ 1.]\n",
      " [ 1.]\n",
      " [ 1.]\n",
      " [ 1.]\n",
      " [ 1.]\n",
      " [ 1.]]\n",
      "[[('3P0', 0.0, 4.5, 0.0, -4.5, 4.5, -4.5)]\n",
      " [('3P0', 0.0, 4.5, 0.0, -3.5, 4.5, -3.5)]\n",
      " [('3P0', 0.0, 4.5, 0.0, -2.5, 4.5, -2.5)]\n",
      " [('3P0', 0.0, 4.5, 0.0, -1.5, 4.5, -1.5)]\n",
      " [('3P0', 0.0, 4.5, 0.0, -0.5, 4.5, -0.5)]\n",
      " [('3P0', 0.0, 4.5, 0.0, 0.5, 4.5, 0.5)]\n",
      " [('3P0', 0.0, 4.5, 0.0, 1.5, 4.5, 1.5)]\n",
      " [('3P0', 0.0, 4.5, 0.0, 2.5, 4.5, 2.5)]\n",
      " [('3P0', 0.0, 4.5, 0.0, 3.5, 4.5, 3.5)]\n",
      " [('3P0', 0.0, 4.5, 0.0, 4.5, 4.5, 4.5)]]\n"
     ]
    }
   ],
   "source": [
    "# CG coefficients\n",
    "\n",
    "from sympy.physics.quantum.cg import CG\n",
    "from sympy import S\n",
    "from numpy import zeros, ones, array\n",
    "\n",
    "# 3P1 states, F = 11/2, 9/2...\n",
    "CG_3P1_11 = zeros((12,3))\n",
    "CG_3P1_9 = zeros((10,3))\n",
    "CG_3P1_7 = zeros((8,3))\n",
    "CG_3P2_13 = zeros((14,5))\n",
    "CG_3P2_11 = zeros((12,5))\n",
    "CG_3P2_9 = zeros((10,5))\n",
    "CG_3P2_7 = zeros((8,5))\n",
    "CG_3P2_5 = zeros((6,5))\n",
    "CG_1P1_11 = zeros((12,3))\n",
    "CG_1P1_9 = zeros((10,3))\n",
    "CG_1P1_7 = zeros((8,3))\n",
    "CG_3P0_9 = ones((10,1))\n",
    "\n",
    "print 'CG_3P' + str(2) + '_' + str(5)\n",
    "\n",
    "# 3P1, J, I, m_J, m_I, F, m_F\n",
    "Eigen_3P1_11 = zeros((12,3),dtype='S3, d, d, d, d, d, d')\n",
    "Eigen_3P1_9 = zeros((10,3),dtype='S3, d, d, d, d, d, d')\n",
    "Eigen_3P1_7 = zeros((8,3),dtype='S3, d, d, d, d, d, d')\n",
    "Eigen_3P2_13 = zeros((14,5),dtype='S3, d, d, d, d, d, d')\n",
    "Eigen_3P2_11 = zeros((12,5),dtype='S3, d, d, d, d, d, d')\n",
    "Eigen_3P2_9 = zeros((10,5),dtype='S3, d, d, d, d, d, d')\n",
    "Eigen_3P2_7 = zeros((8,5),dtype='S3, d, d, d, d, d, d')\n",
    "Eigen_3P2_5 = zeros((6,5),dtype='S3, d, d, d, d, d, d')\n",
    "Eigen_1P1_11 = zeros((12,3),dtype='S3, d, d, d, d, d, d')\n",
    "Eigen_1P1_9 = zeros((10,3),dtype='S3, d, d, d, d, d, d')\n",
    "Eigen_1P1_7 = zeros((8,3),dtype='S3, d, d, d, d, d, d')\n",
    "Eigen_3P0_9 = zeros((10,1),dtype='S3, d, d, d, d, d, d')\n",
    "\n",
    "CGcoefficients = [CG_3P1_11, CG_3P1_9, CG_3P1_7, CG_3P2_13, CG_3P2_11, CG_3P2_9, CG_3P2_7, CG_3P2_5, CG_1P1_11, CG_1P1_9, CG_1P1_7, CG_3P0_9]\n",
    "Eigenvalues = [Eigen_3P1_11, Eigen_3P1_9, Eigen_3P1_7, Eigen_3P2_13, Eigen_3P2_11, Eigen_3P2_9, Eigen_3P2_7, Eigen_3P2_5, Eigen_1P1_11, Eigen_1P1_9, Eigen_1P1_7, Eigen_3P0_9]\n",
    "Index = ['3P1_11', '3P1_9', '3P1_7', '3P2_13', '3P2_11', '3P2_9', '3P2_7', '3P2_5', '1P1_11', '1P1_9', '1P1_7', '3P0_9']\n",
    "\n",
    "# 3P1 & 1P1 states\n",
    "# (p, m, n) indexes, (k, i, j) = (F, m_F, m_J)\n",
    "for p, k in enumerate(range(11, 5, -2)):\n",
    "    for m, i in enumerate(range(-k, k + 2, 2)):\n",
    "        for n, j in enumerate(range(-1, 2, 1)):\n",
    "            cg = CG(1, j, S(9)/2, S(i)/2 - j, S(k)/2, S(i)/2)\n",
    "            CGcoefficients[p][m][n] = cg.doit()\n",
    "            Eigenvalues[p][m][n][0] = '3P1'\n",
    "            Eigenvalues[p][m][n][1] = 1\n",
    "            Eigenvalues[p][m][n][2] = 9/2\n",
    "            Eigenvalues[p][m][n][3] = j \n",
    "            Eigenvalues[p][m][n][4] = i/2 - j\n",
    "            Eigenvalues[p][m][n][5] = k/2\n",
    "            Eigenvalues[p][m][n][6] = i/2\n",
    "            CGcoefficients[p + 8][m][n] = cg.doit()\n",
    "            Eigenvalues[p + 8][m][n][0] = '1P1'\n",
    "            Eigenvalues[p + 8][m][n][1] = 1\n",
    "            Eigenvalues[p + 8][m][n][2] = 9/2\n",
    "            Eigenvalues[p + 8][m][n][3] = j \n",
    "            Eigenvalues[p + 8][m][n][4] = i/2 - j\n",
    "            Eigenvalues[p + 8][m][n][5] = k/2\n",
    "            Eigenvalues[p + 8][m][n][6] = i/2\n",
    "            \n",
    "# 3P2 states\n",
    "for p, k in enumerate(range(13, 3, -2)):\n",
    "    for m, i in enumerate(range(-k, k + 2, 2)):\n",
    "        for n, j in enumerate(range(-2, 3, 1)):\n",
    "            cg = CG(2, j, S(9)/2, S(i)/2 - j, S(k)/2, S(i)/2)\n",
    "            CGcoefficients[p + 3][m][n] = cg.doit()\n",
    "            Eigenvalues[p + 3][m][n][0] = '3P2'\n",
    "            Eigenvalues[p + 3][m][n][1] = 2\n",
    "            Eigenvalues[p + 3][m][n][2] = 9/2\n",
    "            Eigenvalues[p + 3][m][n][3] = j\n",
    "            Eigenvalues[p + 3][m][n][4] = i/2 - j\n",
    "            Eigenvalues[p + 3][m][n][5] = k/2\n",
    "            Eigenvalues[p + 3][m][n][6] = i/2\n",
    "            \n",
    "\n",
    "# 3P0 state\n",
    "\n",
    "for m, i in enumerate(range(-9, 11, 2)):\n",
    "    Eigenvalues[11][m][0][0] = '3P0'\n",
    "    Eigenvalues[11][m][0][1] = 0\n",
    "    Eigenvalues[11][m][0][2] = 9/2\n",
    "    Eigenvalues[11][m][0][3] = 0\n",
    "    Eigenvalues[11][m][0][4] = i/2\n",
    "    Eigenvalues[11][m][0][5] = 9/2\n",
    "    Eigenvalues[11][m][0][6] = i/2\n",
    "         \n",
    "print CG_3P0_9\n",
    "print Eigen_3P0_9"
   ]
  },
  {
   "cell_type": "markdown",
   "metadata": {},
   "source": [
    "# Matrix elements of HFI"
   ]
  },
  {
   "cell_type": "markdown",
   "metadata": {},
   "source": [
    "$ H_{HF} = A \\vec{I} \\cdot \\vec{J} + Q \\frac{\\frac{3}{2} \\vec{I} \\cdot \\vec{J} (2 \\vec{I} \\cdot \\vec{J} + 1) - IJ(I+1) (J+1)}{2IJ(2I-1)(2J-1)}$\n",
    "\n",
    "Using $\\vec{I} \\cdot \\vec{J} = I_z J_z + \\frac{1}{2} (I_+ J_- + I_- J_+)$\n",
    "\n",
    "$J_+ \\mid {J, m_J} \\rangle = \\hbar \\sqrt{(J - m_J)(J + m_J + 1)} \\mid {J, m_J + 1} \\rangle$\n",
    "\n",
    "$J_- \\mid {J, m_J} \\rangle = \\hbar \\sqrt{(J + m_J)(J - m_J + 1)} \\mid {J, m_J - 1} \\rangle$\n",
    "\n",
    "and similar for $I_+, I_-$\n",
    "\n",
    "$I_- J_+ \\mid {J, I, m_J, m_I} \\rangle = \\sqrt{(I + m_I)(I - m_I + 1)}\\sqrt{(J - m_J)(J + m_J + 1)} \\mid {J, I, m_J + 1, m_I - 1} \\rangle$\n",
    "\n",
    "$I_+ J_- \\mid {J, I, m_J, m_I} \\rangle =  \\sqrt{(I - m_I)(I + m_I + 1)}\\sqrt{(J + m_J)(J - m_J + 1)} \\mid {J, I, m_J - 1, m_I + 1} \\rangle$\n",
    "\n",
    "Then \n",
    "\n",
    "$\\vec{I} \\cdot \\vec{J} \\mid J, \\frac{9}{2}, m_J, m_I \\rangle = m_I m_J \\mid {J, \\frac{9}{2}, m_J, m_I} \\rangle + \\frac{1}{2}  \\sqrt{(\\frac{9}{2} - m_I)(\\frac{9}{2} + m_I + 1)}\\sqrt{(J + m_J)(J - m_J + 1)} \\mid {J, \\frac{9}{2}, m_J - 1, m_I + 1} \\rangle + \\frac{1}{2} \\sqrt{(\\frac{9}{2} + m_I)(\\frac{9}{2} - m_I + 1)}\\sqrt{(J - m_J)(J + m_J + 1)} \\mid {J, \\frac{9}{2}, m_J + 1, m_I - 1} \\rangle$\n",
    "\n",
    "$H_{HF}$ only couples states with the same $J, I, m_J + m_I = m_F$\n",
    "\n",
    "$\\langle J_1, m_{J_1}, m_{I_1}  \\mid H_{HF} \\mid J, m_{J}, m_{I} \\rangle = (A + \\frac{3}{2} Q \\frac{1}{2IJ(2I-1)(2J-1)})(\\frac{1}{2}  \\sqrt{(\\frac{9}{2} - m_I)(\\frac{9}{2} + m_I + 1)}\\sqrt{(J + m_J)(J - m_J + 1)} \\delta_{J_1, J} \\delta{m_{J_1}, m_{J} - 1} \\delta{m_{I_1}, m_{I} + 1} + \\frac{1}{2} \\sqrt{(\\frac{9}{2} + m_I)(\\frac{9}{2} - m_I + 1)}\\sqrt{(J - m_J)(J + m_J + 1)} \\delta_{J_1, J} \\delta{m_{J_1}, m_{J} + 1} \\delta{m_{I_1}, m_{I} -1} + (A m_I m_J+  Q \\frac{ \\frac{3}{2}m_I m_J - IJ(I+1)(J+1)}{2IJ(2I-1)(2J-1)})\\delta_{J_1, J} \\delta{m_{J_1}, m_{J}} \\delta{m_{I_1}, m_{I}} + 3 Q \\frac{1}{2IJ(2I-1)(2J-1)}\\vec{I} \\cdot \\vec{J} \\vec{I} \\cdot \\vec{J}$\n",
    "\n",
    "\n",
    "...\n",
    "\n",
    "Too complicated"
   ]
  },
  {
   "cell_type": "markdown",
   "metadata": {},
   "source": [
    "## 1. $m_F = -\\frac{13}{2}$"
   ]
  },
  {
   "cell_type": "markdown",
   "metadata": {},
   "source": [
    "The only possibility is $\\mid ^{3} P _ 2, \\frac{13}{2}, -\\frac{13}{2}\\rangle = \\mid ^{3} P_ 2, -2, -\\frac{9}{2}\\rangle $"
   ]
  },
  {
   "cell_type": "markdown",
   "metadata": {},
   "source": [
    "## 2. $m_F = -\\frac{11}{2}$"
   ]
  },
  {
   "cell_type": "markdown",
   "metadata": {},
   "source": [
    "The possibilities are\n",
    "\n",
    "$\\mid ^{3} P _ 2, \\frac{13}{2}, -\\frac{11}{2}\\rangle = 0.83205029 \\mid ^{3} P_ 2, -2, -\\frac{7}{2}\\rangle + 0.5547002  \\mid ^{3} P_ 2, -1, -\\frac{9}{2}\\rangle $\n",
    "\n",
    "$\\mid ^{3} P _ 2, \\frac{11}{2}, -\\frac{11}{2}\\rangle = -0.5547002 \\mid ^{3} P_ 2, -2, -\\frac{7}{2}\\rangle + 0.83205029 \\mid ^{3} P_ 2, -1, -\\frac{9}{2}\\rangle $\n",
    "\n",
    "$\\mid ^{3} P _ 1, \\frac{11}{2}, -\\frac{11}{2}\\rangle = \\mid ^{3} P_ 1, -1, -\\frac{9}{2}\\rangle $\n",
    "\n",
    "$\\mid ^{1} P _ 1, \\frac{11}{2}, -\\frac{11}{2}\\rangle = \\mid ^{3} P_ 1, -1, -\\frac{9}{2}\\rangle $"
   ]
  },
  {
   "cell_type": "code",
   "execution_count": 10,
   "metadata": {
    "collapsed": false
   },
   "outputs": [],
   "source": [
    "# Sort the same m_F states and put them into a matrix\n",
    "\n",
    "def Subspace(mf):\n",
    "    result = []\n",
    "    for n, c in enumerate(Eigenvalues):\n",
    "        for m in range(len(c)):\n",
    "            if c[m][0][6] == mf:\n",
    "                result.append((n, m))\n",
    "    return result"
   ]
  },
  {
   "cell_type": "code",
   "execution_count": 11,
   "metadata": {
    "collapsed": false
   },
   "outputs": [
    {
     "name": "stdout",
     "output_type": "stream",
     "text": [
      "3\n",
      "[('3P1', 1.0, 4.5, -1.0, -4.5, 5.5, -5.5)\n",
      " ('3P1', 1.0, 4.5, 0.0, -5.5, 5.5, -5.5)\n",
      " ('3P1', 1.0, 4.5, 1.0, -6.5, 5.5, -5.5)]\n",
      "5\n",
      "[('3P2', 2.0, 4.5, -2.0, -3.5, 6.5, -5.5)\n",
      " ('3P2', 2.0, 4.5, -1.0, -4.5, 6.5, -5.5)\n",
      " ('3P2', 2.0, 4.5, 0.0, -5.5, 6.5, -5.5)\n",
      " ('3P2', 2.0, 4.5, 1.0, -6.5, 6.5, -5.5)\n",
      " ('3P2', 2.0, 4.5, 2.0, -7.5, 6.5, -5.5)]\n",
      "5\n",
      "[('3P2', 2.0, 4.5, -2.0, -3.5, 5.5, -5.5)\n",
      " ('3P2', 2.0, 4.5, -1.0, -4.5, 5.5, -5.5)\n",
      " ('3P2', 2.0, 4.5, 0.0, -5.5, 5.5, -5.5)\n",
      " ('3P2', 2.0, 4.5, 1.0, -6.5, 5.5, -5.5)\n",
      " ('3P2', 2.0, 4.5, 2.0, -7.5, 5.5, -5.5)]\n",
      "3\n",
      "[('1P1', 1.0, 4.5, -1.0, -4.5, 5.5, -5.5)\n",
      " ('1P1', 1.0, 4.5, 0.0, -5.5, 5.5, -5.5)\n",
      " ('1P1', 1.0, 4.5, 1.0, -6.5, 5.5, -5.5)]\n",
      "[(0, 0), (3, 1), (4, 0), (8, 0)]\n"
     ]
    }
   ],
   "source": [
    "for i, n in enumerate(Subspace(-11/2)):\n",
    "    print len(CGcoefficients[n[0]][n[1]])\n",
    "    print Eigenvalues[n[0]][n[1]]\n",
    "print Subspace(-11/2)"
   ]
  },
  {
   "cell_type": "code",
   "execution_count": 12,
   "metadata": {
    "collapsed": false
   },
   "outputs": [],
   "source": [
    "# Hyperfine interaction Hamiltonian\n",
    "# Energy in units of MHz\n",
    "from numpy import dot\n",
    "\n",
    "def HF(n):\n",
    "    A = 0\n",
    "    Q = 0\n",
    "    if (Eigenvalues[n][0][0][0] == '3P1'):\n",
    "        A = A_3P1\n",
    "        Q = Q_3P1\n",
    "    if (Eigenvalues[n][0][0][0] == '3P2'):\n",
    "        A = A_3P2\n",
    "        Q = Q_3P2\n",
    "    if (Eigenvalues[n][0][0][0] == '1P1'):\n",
    "        A = A_1P1\n",
    "        Q = Q_1P1\n",
    "    if (Eigenvalues[n][0][0][0] == '3P0'):\n",
    "        return 0\n",
    "    I = Eigenvalues[n][0][0][2]\n",
    "    J = Eigenvalues[n][0][0][1]\n",
    "    F = Eigenvalues[n][0][0][5]\n",
    "    IJ = 0.5 * (F * (F + 1) - I * (I + 1) - J * (J + 1))\n",
    "    result = A * IJ + Q * (3 * IJ * IJ + 1.5 * IJ - I * J * (I + 1) * (J + 1))/(2 * I * J * (2 * I - 1) * (2 * J - 1))\n",
    "    return result"
   ]
  },
  {
   "cell_type": "code",
   "execution_count": 13,
   "metadata": {
    "collapsed": false
   },
   "outputs": [
    {
     "name": "stdout",
     "output_type": "stream",
     "text": [
      "3P1 5.5\n",
      "-1178.75\n",
      "3P1 4.5\n",
      "283.333333333\n",
      "3P1 3.5\n",
      "1413.95833333\n",
      "3P2 6.5\n",
      "-1891.25\n",
      "3P2 5.5\n",
      "-549.541666667\n",
      "3P2 4.5\n",
      "616.458333333\n",
      "3P2 3.5\n",
      "1591.39583333\n",
      "3P2 2.5\n",
      "2362.70833333\n",
      "1P1 5.5\n",
      "-5.55\n",
      "1P1 4.5\n",
      "-22.6\n",
      "1P1 3.5\n",
      "36.575\n",
      "3P0 4.5\n",
      "0\n"
     ]
    }
   ],
   "source": [
    "# Same results with Stellmer thesis\n",
    "for i, n in enumerate(range(len(Eigenvalues))):\n",
    "    print Eigenvalues[n][0][0][0], Eigenvalues[n][0][0][5]\n",
    "    print HF(n)"
   ]
  },
  {
   "cell_type": "code",
   "execution_count": 14,
   "metadata": {
    "collapsed": false
   },
   "outputs": [
    {
     "name": "stdout",
     "output_type": "stream",
     "text": [
      "-0.000131752635601\n"
     ]
    }
   ],
   "source": [
    "# mu_B = 9.274E-24 J/T = 1.3996 MHz/Gauss\n",
    "# mu_N = 5.051E-27 J/T = 7.6226E-4 MHz/Gauss\n",
    "mu_B = 1.399625\n",
    "mu_N = 7.622593E-4\n",
    "g_S = 2\n",
    "g_L = 1\n",
    "g_I = -1.0924 * (1 - 0.00345) * mu_N / mu_B * 2/9\n",
    "print g_I"
   ]
  },
  {
   "cell_type": "code",
   "execution_count": 15,
   "metadata": {
    "collapsed": true
   },
   "outputs": [],
   "source": [
    "# Zeeman interaction Hamiltonian spin-orbit part\n",
    "# In units of MHz/Gauss\n",
    "# n1, n2: 3P1 states, m1, m2: different m_J states\n",
    "\n",
    "def Zeeman_SL(n1, m1, n2, m2):\n",
    "    l1 = len(CGcoefficients2[n1][m1])\n",
    "    l2 = len(CGcoefficients2[n2][m2])\n",
    "    result = 0\n",
    "    for i in range(l1):\n",
    "        for j in range(l2):\n",
    "            if ((list(Eigenvalues2[n1][m1][i])[1: 4] == list(Eigenvalues2[n2][m2][j])[1: 4]) == True):\n",
    "                result = result + CGcoefficients2[n1][m1][i] * CGcoefficients2[n2][m2][j] * (g_S * Eigenvalues2[n1][m1][i][3] + g_L * Eigenvalues2[n1][m1][i][4]) * mu_B\n",
    "    return result           "
   ]
  },
  {
   "cell_type": "code",
   "execution_count": 16,
   "metadata": {
    "collapsed": false
   },
   "outputs": [
    {
     "name": "stdout",
     "output_type": "stream",
     "text": [
      "('1P1', 0.0, 1.0, 0.0, -1.0, 1.0, -1.0)\n",
      "('1P1', 0.0, 1.0, 0.0, -1.0, 1.0, -1.0)\n",
      "('3P1', 1.0, 1.0, -1.0, 0.0, 1.0, -1.0)\n",
      "True\n",
      "False\n"
     ]
    }
   ],
   "source": [
    "A = Eigenvalues2[0][0][3]\n",
    "B = Eigenvalues2[2][0][0]\n",
    "C = Eigenvalues2[2][0][1]\n",
    "print A\n",
    "print B\n",
    "print C\n",
    "print (A == B)\n",
    "print (A == C)"
   ]
  },
  {
   "cell_type": "code",
   "execution_count": 17,
   "metadata": {
    "collapsed": true
   },
   "outputs": [],
   "source": [
    "# Zeeman interaction Hamiltonian in the m_F subspace\n",
    "# In units of MHz/Gauss\n",
    "# n1, m1: different 3P1, F = 11/2 states\n",
    "# n2, m2: different m_F states\n",
    "\n",
    "def Zeeman(n1, m1, n2, m2):\n",
    "    l1 = len(CGcoefficients[n1][m1])\n",
    "    l2 = len(CGcoefficients[n2][m2])\n",
    "    result = 0\n",
    "    for i in range(l1):\n",
    "        for j in range(l2):\n",
    "            e1 = Eigenvalues[n1][m1][i]\n",
    "            e2 = Eigenvalues[n2][m2][j]\n",
    "            if ((list(e1)[1:4] == list(e2)[1:4]) == True):\n",
    "                i1 = Index2.index(e1[0] + '_c')\n",
    "                j1 = int(e1[3] + e1[1])\n",
    "                i2 = Index2.index(e2[0] + '_c')\n",
    "                j2 = int(e2[3] + e2[1])\n",
    "                result = result + CGcoefficients[n1][m1][i] * CGcoefficients[n2][m2][j] * (Zeeman_SL(i1, j1, i2, j2) - g_I * e1[4] * mu_B)                \n",
    "    return result"
   ]
  },
  {
   "cell_type": "code",
   "execution_count": 18,
   "metadata": {
    "collapsed": false
   },
   "outputs": [],
   "source": [
    "# Hamiltonian in m_F = f subspace\n",
    "from sympy import var\n",
    "from sympy import Matrix\n",
    "\n",
    "def H_subspace(f):\n",
    "    var('B')\n",
    "    l = len(Subspace(f))\n",
    "    result = []\n",
    "    for i, n in enumerate(Subspace(f)):\n",
    "        row = []\n",
    "        for j, m in enumerate(Subspace(f)):\n",
    "            a_ = Mul(Zeeman(n[0], n[1], m[0], m[1]), B)\n",
    "            if n[0] == m[0]:\n",
    "                a_ = Add(a_, HF(n[0]))\n",
    "            row.append(a_)\n",
    "        result.append(row)\n",
    "    return Matrix(result)\n"
   ]
  },
  {
   "cell_type": "code",
   "execution_count": null,
   "metadata": {
    "collapsed": false
   },
   "outputs": [],
   "source": [
    "from numpy import linalg as LA\n",
    "from sympy import pprint\n",
    "\n",
    "##############################################\n",
    "###### CAN'T COMPUTE HIGHER DIMENSIONS #######\n",
    "##############################################\n",
    "\n",
    "A = Matrix(H_subspace(11/2))\n",
    "#pprint (A)\n",
    "C = A.diagonalize()\n",
    "pprint (C)\n",
    "#print type(C)\n",
    "pprint (C[0].subs([(B, 0)]))\n",
    "pprint (C[1].subs([(B, 0)]))\n"
   ]
  },
  {
   "cell_type": "code",
   "execution_count": null,
   "metadata": {
    "collapsed": false
   },
   "outputs": [],
   "source": [
    "import matplotlib.gridspec as gridspec\n",
    "import matplotlib.pyplot as plt\n",
    "from numpy import arange\n",
    "figure = plt.figure(figsize=(14, 12))\n",
    "gs = gridspec.GridSpec(2, 2)\n",
    "gs.update(wspace=0.3,hspace=0.4)\n",
    "\n",
    "ax1 = plt.subplot(gs[0,0]) \n",
    "ax2 = plt.subplot(gs[0,1])\n",
    "ax3 = plt.subplot(gs[1,0])\n",
    "\n",
    "for i in range(-13, 15, 2):\n",
    "    label_3P1 = []\n",
    "    index_3P1 = []\n",
    "    label_3P2= []\n",
    "    index_3P2 = []\n",
    "    label_1P1 = []\n",
    "    index_1P1 = []\n",
    "    label_3P0 = []\n",
    "    index_3P0 = []\n",
    "    for j, n in enumerate(Subspace(i / 2)):\n",
    "        if n[0] in [0, 1, 2]:   # 3P1\n",
    "            index_3P1.append(j)\n",
    "            label_3P1.append(Eigenvalues[n[0]][n[1]][0][5])         # Which F state\n",
    "        if n[0] in [3, 4, 5, 6, 7]:   # 3P2\n",
    "            index_3P2.append(j)\n",
    "            label_3P2.append(Eigenvalues[n[0]][n[1]][0][5])         # Which F state\n",
    "        if n[0] in [8, 9, 10]:     # 1P1\n",
    "            index_1P1.append(j)\n",
    "            label_1P1.append(Eigenvalues[n[0]][n[1]][0][5])         # Which F state\n",
    "        if n[0] == 11:                  # 3P0\n",
    "            index_3P0.append(j)\n",
    "            label_3P0.append(Eigenvalues[n[0]][n[1]][0][5])         # Which F state\n",
    "    #print index_1P1\n",
    "    \n",
    "    #B = concatenate((range(0, 80, 2), range(80, 3000, 20)), axis = 1)\n",
    "    B = range(0, 80, 2)\n",
    "    if index_3P1 != []:\n",
    "        Z_3P1 = zeros((len(index_3P1), len(B)))\n",
    "    if index_3P2 != []:\n",
    "        Z_3P2 = zeros((len(index_3P2), len(B)))\n",
    "    if index_1P1 != []:\n",
    "        Z_1P1 = zeros((len(index_1P1), len(B)))\n",
    "    if index_3P0 != []:  \n",
    "        Z_3P0 = zeros((len(index_3P0), len(B)))\n",
    "    #print Z_3P2\n",
    "        \n",
    "    for i_, B_ in enumerate(B):\n",
    "        w, v = LA.eig(H_subspace(i / 2, B_))\n",
    "        w_ = zeros(len(w))\n",
    "        a = abs(v).argmax(axis=0)\n",
    "        for b_, a_ in enumerate(a):\n",
    "            w_[a_] = w[b_]\n",
    "        for j_ in range(len(w_)):\n",
    "            if j_ in index_3P1:\n",
    "                Z_3P1[index_3P1.index(j_)][i_] = w_[j_]\n",
    "            if j_ in index_3P2:\n",
    "                Z_3P2[index_3P2.index(j_)][i_] = w_[j_]\n",
    "            if j_ in index_1P1:\n",
    "                Z_1P1[index_1P1.index(j_)][i_] = w_[j_]\n",
    "            if j_ in index_3P0:\n",
    "                Z_3P0[index_3P0.index(j_)][i_] = w_[j_]\n",
    "    for i_ in range(len(index_1P1)):\n",
    "        ax1.plot(B[0: 40], Z_1P1[i_][0: 40], markersize = 10)\n",
    "    for i_ in range(len(index_3P1)):\n",
    "        ax2.plot(B, Z_3P1[i_] / 1000, markersize = 10)\n",
    "    for i_ in range(len(index_3P2)):\n",
    "        ax3.plot(B, Z_3P2[i_] / 1000, markersize = 10)\n",
    "                \n",
    "\n",
    "\n",
    "ax1.set_xlabel(\"$B$ (G)\")\n",
    "ax1.set_ylabel(\"Detuning (MHz)\")\n",
    "ax1.set_title(r'$^1P_1$')\n",
    "ax1.legend(loc = 1)\n",
    "ax1.grid(1)\n",
    "\n",
    " \n",
    "ax2.set_xlabel(\"$B$ (G)\")\n",
    "ax2.set_ylabel(\"Detuning (GHz)\")\n",
    "ax2.legend(loc = 1)\n",
    "ax2.set_title(r'$^3P_1$')\n",
    "ax2.grid(1)\n",
    "\n",
    "ax3.set_xlabel(\"$B$ (G)\")\n",
    "ax3.set_ylabel(\"Detuning (GHz)\")\n",
    "ax3.legend(loc = 1)\n",
    "ax3.set_title(r'$^3P_2$')\n",
    "ax3.grid(1)"
   ]
  },
  {
   "cell_type": "code",
   "execution_count": null,
   "metadata": {
    "collapsed": true
   },
   "outputs": [],
   "source": []
  },
  {
   "cell_type": "code",
   "execution_count": null,
   "metadata": {
    "collapsed": true
   },
   "outputs": [],
   "source": []
  },
  {
   "cell_type": "code",
   "execution_count": null,
   "metadata": {
    "collapsed": true
   },
   "outputs": [],
   "source": []
  },
  {
   "cell_type": "code",
   "execution_count": null,
   "metadata": {
    "collapsed": true
   },
   "outputs": [],
   "source": []
  }
 ],
 "metadata": {
  "kernelspec": {
   "display_name": "Python 2",
   "language": "python",
   "name": "python2"
  },
  "language_info": {
   "codemirror_mode": {
    "name": "ipython",
    "version": 2
   },
   "file_extension": ".py",
   "mimetype": "text/x-python",
   "name": "python",
   "nbconvert_exporter": "python",
   "pygments_lexer": "ipython2",
   "version": "2.7.6"
  }
 },
 "nbformat": 4,
 "nbformat_minor": 0
}
