{
 "cells": [
  {
   "cell_type": "markdown",
   "metadata": {},
   "source": [
    "#  Pure spin-orbit coupling"
   ]
  },
  {
   "cell_type": "markdown",
   "metadata": {},
   "source": [
    "Mix the states with the same $L$ and the same elctron configuration $\\mid 5s5p \\rangle$\n",
    "\n",
    "$\\mid ^3 P_0 \\rangle = \\mid ^3 P^0_0 \\rangle$\n",
    "\n",
    "$\\mid ^3 P_1 \\rangle = \\alpha \\mid ^3 P_1^0 \\rangle + \\beta \\mid ^1 P_1^0 \\rangle$\n",
    "\n",
    "$\\mid ^3 P_2 \\rangle = \\mid ^3 P_2^0 \\rangle$\n",
    "\n",
    "$\\mid ^1 P_1 \\rangle = -\\beta \\mid ^3 P_1^0 \\rangle + \\alpha \\mid ^1P_1^0 \\rangle$\n",
    "\n",
    "The intermediate coupling coefficients are determined by\n",
    "\n",
    "$\\frac{\\alpha^2}{\\beta^2} = \\frac{\\tau^{^3P_1}}{\\tau^{^1P_1}} (\\frac{\\nu^{^3P1}}{\\nu^{^1P1}})^3$, $\\alpha^2 + \\beta^2 = 1$"
   ]
  },
  {
   "cell_type": "code",
   "execution_count": 48,
   "metadata": {
    "collapsed": false
   },
   "outputs": [
    {
     "name": "stdout",
     "output_type": "stream",
     "text": [
      "(0.9995940880788805, -0.028489631056776547)\n"
     ]
    }
   ],
   "source": [
    "# Ratio of (alpha/beta)^2, according to Stellmer\n",
    "from math import sqrt\n",
    "from __future__ import division\n",
    "c = (434829 / 650504)**3 * (30.5 / 0.0074)\n",
    "\n",
    "# The beta coefficient is negative, according to Boyd 2007\n",
    "beta = - sqrt(1 / (1 + c))\n",
    "alpha = sqrt(c / (1 + c))\n",
    "print (alpha, beta)"
   ]
  },
  {
   "cell_type": "markdown",
   "metadata": {},
   "source": [
    "# Hyperfine coupling"
   ]
  },
  {
   "cell_type": "markdown",
   "metadata": {},
   "source": [
    "Mix states with the same $F$\n",
    "\n",
    "$\\mid ^3 P_0 \\rangle = \\mid ^3 P_0^0 \\rangle + \\alpha_0 \\mid ^3 P_1 \\rangle + \\beta_0 \\mid ^1 P_1 \\rangle + \\gamma_0 \\mid ^3 P_2^0 \\rangle $\n",
    "\n",
    "These coefficients can be calculated by $A, Q$ coupling constants and linewidths and wavelengths. It should be possible following Boyd and the references therein.\n",
    "\n",
    "$(\\alpha_0, \\beta_0, \\gamma_0) = (2 \\times 10^{-4}, -4 \\times 10^{-6}, -1 \\times 10^{-6})$"
   ]
  },
  {
   "cell_type": "code",
   "execution_count": 39,
   "metadata": {
    "collapsed": false
   },
   "outputs": [
    {
     "name": "stdout",
     "output_type": "stream",
     "text": [
      "(0.000199804859091549, -9.69630256367083e-06, -1e-06)\n"
     ]
    }
   ],
   "source": [
    "alpha_0 = 2E-4\n",
    "beta_0 = -4E-6\n",
    "gamma_0 = -1E-6\n",
    "alpha_1 = alpha_0 * alpha - beta_0 * beta\n",
    "beta_1 = alpha_0 * beta + beta_0 * alpha\n",
    "gamma_1 = gamma_0\n",
    "print (alpha_1, beta_1, gamma_1)"
   ]
  },
  {
   "cell_type": "markdown",
   "metadata": {},
   "source": [
    "The lifetime of $^3P_0$ is given by\n",
    "\n",
    "$\\tau^{^3P_0} = (\\frac{\\lambda^{^3P_0 - ^1S_0}}{\\lambda^{^3P_1 - ^1S_0}})^3 \\frac{\\beta^2}{(\\alpha_0 \\beta + \\beta_0 \\alpha)^2} \\tau^{^3P_1}$\n",
    "\n",
    "which is 193 seconds"
   ]
  },
  {
   "cell_type": "code",
   "execution_count": 41,
   "metadata": {
    "collapsed": false
   },
   "outputs": [
    {
     "data": {
      "text/plain": [
       "193.04490629469151"
      ]
     },
     "execution_count": 41,
     "metadata": {},
     "output_type": "execute_result"
    }
   ],
   "source": [
    "from math import pi\n",
    "(698 / 689)**3 * (beta / (alpha_0 * beta + beta_0 * alpha))**2 * 1 / (2 * pi * 7400)"
   ]
  },
  {
   "cell_type": "markdown",
   "metadata": {},
   "source": [
    "# Magnetic field as a perturbation, up to second order Zeeman shift, Breit-Rabi diagram"
   ]
  },
  {
   "cell_type": "markdown",
   "metadata": {},
   "source": [
    "If we see the magnetic field as a perturbation, the Zeeman interaction Hamiltonian is:\n",
    "\n",
    "$H_z = (g_S S_z + g_L L_z - g_I I_z) \\mu_0 B$\n",
    "\n",
    "where $g_S = 2, g_L = 1, g_I = \\frac{\\mu_I (1-\\sigma_d)}{\\mu_0 I}$\n",
    "\n",
    "For $^{87} Sr$, $\\mu_I = -1.09247 \\mu_N, \\sigma_d = 0.00345$ ($\\sigma_d$ diamagnetic correction)\n",
    "\n",
    "We already have\n",
    "\n",
    "$\\mid ^3 P_0 \\rangle = \\mid ^3 P_0^0 \\rangle + (\\alpha_0 \\alpha - \\beta_0 \\beta) \\mid ^3 P_1^0 \\rangle + (\\alpha_0 \\beta + \\beta_0 \\alpha) \\mid ^1 P_1^0 \\rangle + \\gamma_0 \\mid ^3 P_2^0 \\rangle $\n",
    "\n",
    "And ignore higher order of hyperfine mixing\n",
    "\n",
    "$\\mid ^3 P_1 \\rangle = \\alpha \\mid ^3 P_1^0 \\rangle + \\beta \\mid ^1 P_1^0 \\rangle$\n",
    "\n",
    "$\\mid ^3 P_2 \\rangle = \\mid ^3 P_2^0 \\rangle$\n",
    "\n",
    "$\\mid ^1 P_1 \\rangle = -\\beta \\mid ^3 P_1^0 \\rangle + \\alpha \\mid ^1P_1^0 \\rangle$\n",
    "\n",
    "The relevant Zeeman matrix elements are ( $ I = \\frac{9}{2}$ for $^{87} Sr$)"
   ]
  },
  {
   "cell_type": "markdown",
   "metadata": {},
   "source": [
    "<img src=\"files/Zeeman matrix elements.png\", width=450>"
   ]
  },
  {
   "cell_type": "markdown",
   "metadata": {},
   "source": [
    "Consider now the basis of pure $LS$ states, $\\mid ^1P_1, F, m_F \\rangle, \\mid ^3P_0, F, m_F \\rangle, \\mid ^3P_1, F, m_F \\rangle, \\mid ^3P_2, F, m_F \\rangle$ "
   ]
  },
  {
   "cell_type": "code",
   "execution_count": 47,
   "metadata": {
    "collapsed": false
   },
   "outputs": [
    {
     "data": {
      "text/plain": [
       "sqrt(3)/2"
      ]
     },
     "execution_count": 47,
     "metadata": {},
     "output_type": "execute_result"
    }
   ],
   "source": [
    "from sympy.physics.quantum.cg import CG\n",
    "from sympy import S\n",
    "cg = CG(S(3)/2, S(3)/2, S(1)/2, -S(1)/2, 1, 1)\n",
    "cg.doit()"
   ]
  },
  {
   "cell_type": "code",
   "execution_count": null,
   "metadata": {
    "collapsed": true
   },
   "outputs": [],
   "source": []
  }
 ],
 "metadata": {
  "kernelspec": {
   "display_name": "Python 2",
   "language": "python",
   "name": "python2"
  },
  "language_info": {
   "codemirror_mode": {
    "name": "ipython",
    "version": 2
   },
   "file_extension": ".py",
   "mimetype": "text/x-python",
   "name": "python",
   "nbconvert_exporter": "python",
   "pygments_lexer": "ipython2",
   "version": "2.7.6"
  }
 },
 "nbformat": 4,
 "nbformat_minor": 0
}
