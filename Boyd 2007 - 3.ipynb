{
 "cells": [
  {
   "cell_type": "code",
   "execution_count": 69,
   "metadata": {
    "collapsed": true
   },
   "outputs": [],
   "source": [
    "from IPython.display import display, Math, Latex\n",
    "\n",
    "from sympy.interactive import printing\n",
    "printing.init_printing(use_latex=True)\n",
    "\n",
    "from __future__ import division\n",
    "\n",
    "import matplotlib\n",
    "matplotlib.rc('font',**{'family':'serif'})"
   ]
  },
  {
   "cell_type": "markdown",
   "metadata": {},
   "source": [
    "#  Pure spin-orbit state mixing"
   ]
  },
  {
   "cell_type": "markdown",
   "metadata": {},
   "source": [
    "Mix the states with the same $L$ (and $m_L$) and the same elctron configuration $\\mid 5s5p \\rangle$\n",
    "\n",
    "LHS: mixed spin-orbit states, RHS: pure spin-orbit states\n",
    "\n",
    "$\\mid ^3 P_0 \\rangle = \\mid ^3 P^0_0 \\rangle$\n",
    "\n",
    "$\\mid ^3 P_1 \\rangle = \\alpha \\mid ^3 P_1^0 \\rangle + \\beta \\mid ^1 P_1^0 \\rangle$\n",
    "\n",
    "$\\mid ^3 P_2 \\rangle = \\mid ^3 P_2^0 \\rangle$\n",
    "\n",
    "$\\mid ^1 P_1 \\rangle = -\\beta \\mid ^3 P_1^0 \\rangle + \\alpha \\mid ^1P_1^0 \\rangle$\n",
    "\n",
    "The intermediate coupling coefficients are determined by\n",
    "\n",
    "$\\frac{\\alpha^2}{\\beta^2} = \\frac{\\tau^{^3P_1}}{\\tau^{^1P_1}} (\\frac{\\nu^{^3P1}}{\\nu^{^1P1}})^3$, $\\alpha^2 + \\beta^2 = 1$"
   ]
  },
  {
   "cell_type": "code",
   "execution_count": 70,
   "metadata": {
    "collapsed": false
   },
   "outputs": [
    {
     "name": "stdout",
     "output_type": "stream",
     "text": [
      "(0.9995940880788805, -0.028489631056776547)\n"
     ]
    }
   ],
   "source": [
    "# Ratio of (alpha/beta)^2, according to Stellmer\n",
    "from math import sqrt\n",
    "\n",
    "c = (434829 / 650504)**3 * (30.5 / 0.0074)\n",
    "\n",
    "# The beta coefficient is negative, according to Boyd 2007\n",
    "beta = - sqrt(1 / (1 + c))\n",
    "alpha = sqrt(c / (1 + c))\n",
    "print (alpha, beta)"
   ]
  },
  {
   "cell_type": "markdown",
   "metadata": {},
   "source": [
    "# Hyperfine state mixing"
   ]
  },
  {
   "cell_type": "code",
   "execution_count": 2,
   "metadata": {
    "collapsed": false
   },
   "outputs": [
    {
     "name": "stdout",
     "output_type": "stream",
     "text": [
      "(0.000199804859091549, -9.69630256367083e-06, -1e-06)\n"
     ]
    }
   ],
   "source": [
    "alpha_0 = 2E-4\n",
    "beta_0 = -4E-6\n",
    "gamma_0 = -1E-6\n",
    "alpha_1 = alpha_0 * alpha - beta_0 * beta\n",
    "beta_1 = alpha_0 * beta + beta_0 * alpha\n",
    "gamma_1 = gamma_0\n",
    "print (alpha_1, beta_1, gamma_1)"
   ]
  },
  {
   "cell_type": "markdown",
   "metadata": {},
   "source": [
    "The lifetime of $^3P_0$ is given by\n",
    "\n",
    "$\\tau^{^3P_0} = (\\frac{\\lambda^{^3P_0 - ^1S_0}}{\\lambda^{^3P_1 - ^1S_0}})^3 \\frac{\\beta^2}{(\\alpha_0 \\beta + \\beta_0 \\alpha)^2} \\tau^{^3P_1}$\n",
    "\n",
    "which is 193 seconds"
   ]
  },
  {
   "cell_type": "code",
   "execution_count": 3,
   "metadata": {
    "collapsed": false
   },
   "outputs": [
    {
     "data": {
      "text/plain": [
       "193.04490629469151"
      ]
     },
     "execution_count": 3,
     "metadata": {},
     "output_type": "execute_result"
    }
   ],
   "source": [
    "from math import pi\n",
    "(698 / 689)**3 * (beta / (alpha_0 * beta + beta_0 * alpha))**2 * 1 / (2 * pi * 7400)"
   ]
  },
  {
   "cell_type": "markdown",
   "metadata": {},
   "source": [
    "We already have\n",
    "\n",
    "$\\mid ^3 P_0 \\rangle = \\mid ^3 P_0^0 \\rangle + (\\alpha_0 \\alpha - \\beta_0 \\beta) \\mid ^3 P_1^0 \\rangle + (\\alpha_0 \\beta + \\beta_0 \\alpha) \\mid ^1 P_1^0 \\rangle + \\gamma_0 \\mid ^3 P_2^0 \\rangle = \\mid ^3 P_0^0 \\rangle + \\alpha_1 \\mid ^3 P_1^0 \\rangle + \\beta_1 \\mid ^1 P_1^0 \\rangle + \\gamma_1 \\mid ^3 P_2^0 \\rangle$\n",
    "\n",
    "And ignore higher order of hyperfine mixing\n",
    "\n",
    "$\\mid ^3 P_1 \\rangle = \\alpha \\mid ^3 P_1^0 \\rangle + \\beta \\mid ^1 P_1^0 \\rangle$\n",
    "\n",
    "$\\mid ^3 P_2 \\rangle = \\mid ^3 P_2^0 \\rangle$\n",
    "\n",
    "$\\mid ^1 P_1 \\rangle = -\\beta \\mid ^3 P_1^0 \\rangle + \\alpha \\mid ^1P_1^0 \\rangle$"
   ]
  },
  {
   "cell_type": "markdown",
   "metadata": {},
   "source": [
    "# Hyperfine coupling"
   ]
  },
  {
   "cell_type": "markdown",
   "metadata": {},
   "source": [
    "The magnetic dipole ($A$) and electric quadrupole ($Q$) contributions to the hyperfine interaction are\n",
    "\n",
    "$H_A = A \\vec{I} \\cdot \\vec{J}$\n",
    "\n",
    "$H_Q = Q \\frac{\\frac{3}{2} \\vec{I} \\cdot \\vec{J} (2 \\vec{I} \\cdot \\vec{J} + 1) - IJ(I+1) (J+1)}{2IJ(2I-1)(2J-1)}$\n",
    "\n",
    "Basically they couple states with the same $F$ ($\\vec{F} = \\vec{I} + \\vec{J}$) and $m_F$. For these excited states,\n",
    "\n",
    "\n",
    "$\\mid ^3 P_1 \\rangle: A = -260$ MHz, $Q = -35 $MHz\n",
    "\n",
    "$\\mid ^3 P_2 \\rangle: A = -212 $ MHz, $Q = 67 $MHz \n",
    "\n",
    "$\\mid ^1 P_1 \\rangle: A = -3.4 $ MHz, $Q = 39$ MHz "
   ]
  },
  {
   "cell_type": "code",
   "execution_count": 4,
   "metadata": {
    "collapsed": true
   },
   "outputs": [],
   "source": [
    "# In units of MHz\n",
    "A_3P1 = -260\n",
    "Q_3P1 = -35\n",
    "A_3P2 = -212\n",
    "Q_3P2 = 67\n",
    "A_1P1 = -3.4\n",
    "Q_1P1 = 39"
   ]
  },
  {
   "cell_type": "markdown",
   "metadata": {},
   "source": [
    "# Zeeman interaction with external magnetic field"
   ]
  },
  {
   "cell_type": "markdown",
   "metadata": {},
   "source": [
    "$H_z = (g_S S_z + g_L L_z - g_I I_z) \\mu_0 B$\n",
    "\n",
    "where $g_S = 2, g_L = 1, g_I = \\frac{\\mu_I (1-\\sigma_d)}{\\mu_0 I}$\n",
    "\n",
    "For $^{87} Sr$, $\\mu_I = -1.09247 \\mu_N, \\sigma_d = 0.00345$ ($\\sigma_d$ diamagnetic correction)"
   ]
  },
  {
   "cell_type": "markdown",
   "metadata": {},
   "source": [
    "Then the full treatment including Zeeman interactions and HFI is\n",
    "\n",
    "$H = H_Z + H_A + H_Q$\n",
    "\n",
    "we assume these interactions are smaller than the fine structure such that we can use the spin-orbit mixed states as a basis."
   ]
  },
  {
   "cell_type": "markdown",
   "metadata": {},
   "source": [
    "# Clebsch-Gordan coefficients"
   ]
  },
  {
   "cell_type": "markdown",
   "metadata": {},
   "source": [
    "## 1. Fine structure"
   ]
  },
  {
   "cell_type": "markdown",
   "metadata": {},
   "source": [
    "We first express the pure spin-orbit states $\\mid ^{2S + 1} P _ J ^0, m_J \\rangle$ as a superposition of $\\mid ^{2S + 1} P _ J ^0, m_S, m_L \\rangle$ states using CG coefficients\n",
    "\n",
    "$\\mid ^{2S + 1} P _ J ^0, m_J \\rangle = \\sum_{m_S, m_L} C^{J, m_J}_{S, m_S, L, m_L} \\mid ^{2S + 1} P _ J ^0, m_S, m_L \\rangle$\n",
    "\n",
    "Explicitly, we have\n",
    "\n",
    "$\\mid ^{3} P _ 0 ^0,  0\\rangle = \\mid ^{3} P _ 0 ^0, 0, 0 \\rangle$\n",
    "\n",
    "\n",
    "--------------------\n",
    "\n",
    "$\\mid ^{3} P _ 1 ^0, 1 \\rangle = \\frac{1}{\\sqrt{2}}(\\mid ^{3} P _ 1 ^0, 1, 0 \\rangle - \\mid ^{3} P _ 1 ^0, 0, 1 \\rangle)$\n",
    "\n",
    "$\\mid ^{3} P _ 1 ^0, 0 \\rangle = \\frac{1}{\\sqrt{2}}(\\mid ^{3} P _ 1 ^0, 1, -1 \\rangle - \\mid ^{3} P _ 1 ^0, -1, 1 \\rangle)$\n",
    "\n",
    "$\\mid ^{3} P _ 1 ^0, -1 \\rangle = \\frac{1}{\\sqrt{2}}(\\mid ^{3} P _ 1 ^0, -1, 0 \\rangle - \\mid ^{3} P _ 1 ^0, 0, -1 \\rangle)$\n",
    "\n",
    "------------------\n",
    "\n",
    "$\\mid ^{3} P _ 2 ^0, 2 \\rangle = \\mid ^{3} P _ 2 ^0, 1, 1 \\rangle $\n",
    "\n",
    "$\\mid ^{3} P _ 2 ^0, 1 \\rangle = \\frac{1}{\\sqrt{2}}(\\mid ^{3} P _ 2 ^0, 1, 0 \\rangle + \\mid ^{3} P _ 2 ^0, 0, 1 \\rangle)$\n",
    "\n",
    "$\\mid ^{3} P _ 2 ^0, 0 \\rangle = \\frac{\\sqrt{2}}{\\sqrt{3}}\\mid ^{3} P _ 2 ^0, 0, 0 \\rangle + \\frac{1}{\\sqrt{6}}\\mid ^{3} P _ 2 ^0, 1, -1 \\rangle + \\frac{1}{\\sqrt{6}}\\mid ^{3} P _ 2 ^0, -1, 1 \\rangle$\n",
    "\n",
    "$\\mid ^{3} P _ 2 ^0, -1 \\rangle = \\frac{1}{\\sqrt{2}}(\\mid ^{3} P _ 2 ^0, -1, 0 \\rangle + \\mid ^{3} P _ 2 ^0, 0, -1 \\rangle)$\n",
    "\n",
    "$\\mid ^{3} P _ 2 ^0, -2 \\rangle = \\mid ^{3} P _ 2 ^0, -1, -1 \\rangle $\n",
    "\n",
    "--------------------\n",
    "\n",
    "$\\mid ^{1} P _ 1 ^0, 1 \\rangle = \\mid ^{1} P _ 1 ^0, 0, 1 \\rangle $\n",
    "\n",
    "$\\mid ^{1} P _ 1 ^0, 0 \\rangle = \\mid ^{1} P _ 1 ^0, 0, 1 \\rangle $\n",
    "\n",
    "$\\mid ^{1} P _ 1 ^0, -1 \\rangle = \\mid ^{1} P _ 1 ^0, 0, -1 \\rangle$"
   ]
  },
  {
   "cell_type": "markdown",
   "metadata": {},
   "source": [
    "For the mixed spin-orbit states, we have\n",
    "\n",
    "$\\mid ^{3} P _ 0,  0\\rangle = \\mid ^{3} P _ 0 ^0, 0, 0 \\rangle$\n",
    "\n",
    "\n",
    "--------------------\n",
    "\n",
    "$\\mid ^{3} P _ 1, 1 \\rangle = \\frac{\\alpha}{\\sqrt{2}}(\\mid ^{3} P _ 1 ^0, 1, 0 \\rangle - \\mid ^{3} P _ 1 ^0, 0, 1 \\rangle) + \\beta \\mid ^{1} P _ 1 ^0, 0, 1 \\rangle$\n",
    "\n",
    "$\\mid ^{3} P _ 1, 0 \\rangle = \\frac{\\alpha}{\\sqrt{2}}(\\mid ^{3} P _ 1 ^0, 1, -1 \\rangle - \\mid ^{3} P _ 1 ^0, -1, 1 \\rangle) + \\beta \\mid ^{1} P _ 1 ^0, 0, 0 \\rangle$\n",
    "\n",
    "$\\mid ^{3} P _ 1, -1 \\rangle = \\frac{\\alpha}{\\sqrt{2}}(\\mid ^{3} P _ 1 ^0, -1, 0 \\rangle - \\mid ^{3} P _ 1 ^0, 0, -1 \\rangle) + \\beta \\mid ^{1} P _ 1 ^0, 0, -1 \\rangle$\n",
    "\n",
    "------------------\n",
    "\n",
    "$\\mid ^{3} P _ 2 , 2 \\rangle = \\mid ^{3} P _ 2 ^0, 1, 1 \\rangle $\n",
    "\n",
    "$\\mid ^{3} P _ 2 , 1 \\rangle = \\frac{1}{\\sqrt{2}}(\\mid ^{3} P _ 2 ^0, 1, 0 \\rangle + \\mid ^{3} P _ 2 ^0, 0, 1 \\rangle)$\n",
    "\n",
    "$\\mid ^{3} P _ 2 , 0 \\rangle = \\frac{\\sqrt{2}}{\\sqrt{3}}\\mid ^{3} P _ 2 ^0, 0, 0 \\rangle + \\frac{1}{\\sqrt{6}}\\mid ^{3} P _ 2 ^0, 1, -1 \\rangle + \\frac{1}{\\sqrt{6}}\\mid ^{3} P _ 2 ^0, -1, 1 \\rangle$\n",
    "\n",
    "$\\mid ^{3} P _ 2 , -1 \\rangle = \\frac{1}{\\sqrt{2}}(\\mid ^{3} P _ 2 ^0, -1, 0 \\rangle + \\mid ^{3} P _ 2 ^0, 0, -1 \\rangle)$\n",
    "\n",
    "$\\mid ^{3} P _ 2 , -2 \\rangle = \\mid ^{3} P _ 2 ^0, -1, -1 \\rangle $\n",
    "\n",
    "--------------------\n",
    "\n",
    "$\\mid ^{1} P _ 1, 1 \\rangle = -\\frac{\\beta}{\\sqrt{2}}(\\mid ^{3} P _ 1 ^0, 1, 0 \\rangle - \\mid ^{3} P _ 1 ^0, 0, 1 \\rangle) + \\alpha \\mid ^{1} P _ 1 ^0, 0, 1 \\rangle$\n",
    "\n",
    "$\\mid ^{1} P _ 1, 0 \\rangle = -\\frac{\\beta}{\\sqrt{2}}(\\mid ^{3} P _ 1 ^0, 1, -1 \\rangle - \\mid ^{3} P _ 1 ^0, -1, 1 \\rangle) + \\alpha \\mid ^{1} P _ 1 ^0, 0, 0 \\rangle$\n",
    "\n",
    "$\\mid ^{1} P _ 1, -1 \\rangle = -\\frac{\\beta}{\\sqrt{2}}(\\mid ^{3} P _ 1 ^0, -1, 0 \\rangle - \\mid ^{3} P _ 1 ^0, 0, -1 \\rangle) + \\alpha \\mid ^{1} P _ 1 ^0, 0, -1 \\rangle$"
   ]
  },
  {
   "cell_type": "code",
   "execution_count": 5,
   "metadata": {
    "collapsed": false
   },
   "outputs": [
    {
     "name": "stdout",
     "output_type": "stream",
     "text": [
      "sqrt(330)/55\n",
      "2*sqrt(385)/55\n",
      "sqrt(1155)/55\n"
     ]
    }
   ],
   "source": [
    "from sympy.physics.quantum.cg import CG\n",
    "from sympy import S\n",
    "for s in [-1, 0, 1]:\n",
    "    cg = CG(1, s, S(9)/2, S(3)/2 - s, S(11)/2, S(3)/2)\n",
    "    print cg.doit()"
   ]
  },
  {
   "cell_type": "code",
   "execution_count": 64,
   "metadata": {
    "collapsed": false
   },
   "outputs": [
    {
     "name": "stdout",
     "output_type": "stream",
     "text": [
      "[[ 1.          0.          0.        ]\n",
      " [ 0.70710678  0.70710678  0.        ]\n",
      " [ 0.40824829  0.81649658  0.40824829]\n",
      " [ 0.          0.70710678  0.70710678]\n",
      " [ 0.          0.          1.        ]]\n",
      "[[('3P2', 1.0, 1.0, -1.0, -1.0, 2.0, -2.0)\n",
      "  ('3P2', 1.0, 1.0, 0.0, -2.0, 2.0, -2.0)\n",
      "  ('3P2', 1.0, 1.0, 1.0, -3.0, 2.0, -2.0)]\n",
      " [('3P2', 1.0, 1.0, -1.0, 0.0, 2.0, -1.0)\n",
      "  ('3P2', 1.0, 1.0, 0.0, -1.0, 2.0, -1.0)\n",
      "  ('3P2', 1.0, 1.0, 1.0, -2.0, 2.0, -1.0)]\n",
      " [('3P2', 1.0, 1.0, -1.0, 1.0, 2.0, 0.0)\n",
      "  ('3P2', 1.0, 1.0, 0.0, 0.0, 2.0, 0.0)\n",
      "  ('3P2', 1.0, 1.0, 1.0, -1.0, 2.0, 0.0)]\n",
      " [('3P2', 1.0, 1.0, -1.0, 2.0, 2.0, 1.0)\n",
      "  ('3P2', 1.0, 1.0, 0.0, 1.0, 2.0, 1.0)\n",
      "  ('3P2', 1.0, 1.0, 1.0, 0.0, 2.0, 1.0)]\n",
      " [('3P2', 1.0, 1.0, -1.0, 3.0, 2.0, 2.0)\n",
      "  ('3P2', 1.0, 1.0, 0.0, 2.0, 2.0, 2.0)\n",
      "  ('3P2', 1.0, 1.0, 1.0, 1.0, 2.0, 2.0)]]\n"
     ]
    }
   ],
   "source": [
    "# CG coefficients\n",
    "\n",
    "from sympy.physics.quantum.cg import CG\n",
    "from sympy import S\n",
    "from numpy import zeros, ones, array\n",
    "\n",
    "# 3P1 states.\n",
    "CG_3P1 = zeros((3,3))\n",
    "CG_3P2 = zeros((5,3))\n",
    "CG_1P1 = zeros((3,1))\n",
    "CG_3P0 = zeros((1,3))\n",
    "\n",
    "# 3P1, S, L, m_S, m_L, J, m_J\n",
    "Eigen_3P1 = zeros((3,3),dtype='S3, d, d, d, d, d, d')\n",
    "Eigen_3P2 = zeros((5,3),dtype='S3, d, d, d, d, d, d')\n",
    "Eigen_1P1 = zeros((3,1),dtype='S3, d, d, d, d, d, d')\n",
    "Eigen_3P0 = zeros((1,3),dtype='S3, d, d, d, d, d, d')\n",
    "\n",
    "CGcoefficients1 = [CG_3P1, CG_3P2, CG_1P1, CG_3P0]\n",
    "Eigenvalues1 = [Eigen_3P1, Eigen_3P2, Eigen_1P1, Eigen_3P0]\n",
    "\n",
    "\n",
    "# 3P1 states\n",
    "# (m, n) indexes, (j, s) = (m_J, m_S)\n",
    "for m, j in enumerate(range(-1, 2, 1)):\n",
    "    for n, s in enumerate(range(-1, 2, 1)):\n",
    "        cg = CG(1, s, 1, j - s, 1, j)\n",
    "        CGcoefficients1[0][m][n] = cg.doit()\n",
    "        Eigenvalues1[0][m][n][0] = '3P1'\n",
    "        Eigenvalues1[0][m][n][1] = 1\n",
    "        Eigenvalues1[0][m][n][2] = 1\n",
    "        Eigenvalues1[0][m][n][3] = s\n",
    "        Eigenvalues1[0][m][n][4] = j - s\n",
    "        Eigenvalues1[0][m][n][5] = 1\n",
    "        Eigenvalues1[0][m][n][6] = j\n",
    "            \n",
    "# 3P2 states\n",
    "for m, j in enumerate(range(-2, 3, 1)):\n",
    "    for n, s in enumerate(range(-1, 2, 1)):\n",
    "        cg = CG(1, s, 1, j - s, 2, j)\n",
    "        CGcoefficients1[1][m][n] = cg.doit()\n",
    "        Eigenvalues1[1][m][n][0] = '3P2'\n",
    "        Eigenvalues1[1][m][n][1] = 1\n",
    "        Eigenvalues1[1][m][n][2] = 1\n",
    "        Eigenvalues1[1][m][n][3] = s\n",
    "        Eigenvalues1[1][m][n][4] = j - s\n",
    "        Eigenvalues1[1][m][n][5] = 2\n",
    "        Eigenvalues1[1][m][n][6] = j\n",
    "            \n",
    "\n",
    "# 1P1 states\n",
    "for m, j in enumerate(range(-1, 2, 1)):\n",
    "    cg = CG(0, 0, 1, j, 1, j)\n",
    "    CGcoefficients1[2][m][0] = cg.doit()\n",
    "    Eigenvalues1[2][m][0][0] = '1P1'\n",
    "    Eigenvalues1[2][m][0][1] = 0\n",
    "    Eigenvalues1[2][m][0][2] = 1\n",
    "    Eigenvalues1[2][m][0][3] = 0\n",
    "    Eigenvalues1[2][m][0][4] = j\n",
    "    Eigenvalues1[2][m][0][5] = 1\n",
    "    Eigenvalues1[2][m][0][6] = j\n",
    "            \n",
    "# 3P0 states\n",
    "for n, s in enumerate(range(-1, 2, 1)):\n",
    "    cg = CG(1, s, 1, -1 * s, 0, 0)\n",
    "    CGcoefficients1[3][0][n] = cg.doit()\n",
    "    Eigenvalues1[3][0][n][0] = '3P0'\n",
    "    Eigenvalues1[3][0][n][1] = 1\n",
    "    Eigenvalues1[3][0][n][2] = 1\n",
    "    Eigenvalues1[3][0][n][3] = s\n",
    "    Eigenvalues1[3][0][n][4] = -1 * s\n",
    "    Eigenvalues1[3][0][n][5] = 0\n",
    "    Eigenvalues1[3][0][n][6] = 0\n",
    "         \n",
    "print CG_3P2\n",
    "print Eigen_3P2"
   ]
  },
  {
   "cell_type": "code",
   "execution_count": 67,
   "metadata": {
    "collapsed": false
   },
   "outputs": [
    {
     "name": "stdout",
     "output_type": "stream",
     "text": [
      "[[ 0.99959409 -0.02014521  0.02014521  0.        ]\n",
      " [ 0.99959409 -0.02014521  0.          0.02014521]\n",
      " [ 0.99959409  0.         -0.02014521  0.02014521]]\n",
      "[[('3P1', 1.0, 1.0, -1.0, 0.0, 1.0, -1.0)\n",
      "  ('3P1', 1.0, 1.0, 0.0, -1.0, 1.0, -1.0)\n",
      "  ('3P1', 1.0, 1.0, 1.0, -2.0, 1.0, -1.0)\n",
      "  ('1P1', 0.0, 1.0, 0.0, -1.0, 1.0, -1.0)]\n",
      " [('3P1', 1.0, 1.0, -1.0, 1.0, 1.0, 0.0)\n",
      "  ('3P1', 1.0, 1.0, 0.0, 0.0, 1.0, 0.0)\n",
      "  ('3P1', 1.0, 1.0, 1.0, -1.0, 1.0, 0.0)\n",
      "  ('1P1', 0.0, 1.0, 0.0, 0.0, 1.0, 0.0)]\n",
      " [('3P1', 1.0, 1.0, -1.0, 2.0, 1.0, 1.0)\n",
      "  ('3P1', 1.0, 1.0, 0.0, 1.0, 1.0, 1.0)\n",
      "  ('3P1', 1.0, 1.0, 1.0, 0.0, 1.0, 1.0)\n",
      "  ('1P1', 0.0, 1.0, 0.0, 1.0, 1.0, 1.0)]]\n"
     ]
    }
   ],
   "source": [
    "# Include spin-orbit and HF state mixing\n",
    "# Enough to calculate the 3P2 3P1 1P1 states Zeeman shift\n",
    "from numpy import concatenate\n",
    "\n",
    "CG_3P1_c = concatenate((alpha * CG_3P1, beta * CG_1P1), axis=1)\n",
    "CG_3P2_c = CG_3P2\n",
    "CG_1P1_c = concatenate((alpha * CG_1P1, -1 * beta * CG_3P1), axis=1)\n",
    "CG_3P0_c = CG_3P0\n",
    "\n",
    "Eigen_3P1_c = concatenate((Eigen_3P1, Eigen_1P1), axis=1)\n",
    "Eigen_3P2_c = Eigen_3P2\n",
    "Eigen_1P1_c = concatenate((Eigen_1P1, Eigen_3P1), axis=1)\n",
    "Eigen_3P0_c = Eigen_3P0\n",
    "\n",
    "CGcoefficients2 = [CG_3P1_c, CG_3P2_c, CG_1P1_c, CG_3P0_c]\n",
    "Eigenvalues2 = [Eigen_3P1_c, Eigen_3P2_c, Eigen_1P1_c, Eigen_3P0_c]\n",
    "\n",
    "print CG_1P1_c\n",
    "print Eigen_3P1_c"
   ]
  },
  {
   "cell_type": "markdown",
   "metadata": {},
   "source": [
    "## 2. Hyperfine structure"
   ]
  },
  {
   "cell_type": "markdown",
   "metadata": {},
   "source": [
    "Then we have\n",
    "\n",
    "$\\mid ^{2S + 1} P _ J , F, m_F \\rangle = \\sum_{m_J, m_I} C^{F, m_F}_{J, m_J, I, m_I} \\mid ^{2S + 1} P _ J, m_J, m_I \\rangle$\n",
    "\n",
    "Explicitly, we have\n",
    "\n",
    "\n",
    "$\\mid ^{3} P _ 0, \\frac{9}{2}, m_F\\rangle = \\mid ^{3} P _ 0, 0, m_F \\rangle$\n",
    "\n",
    "\n",
    "--------------------\n",
    "\n",
    "$\\mid ^{3} P _ 1, \\frac{11}{2}, \\frac{11}{2}\\rangle = \\mid ^{3} P _ 1, 1, \\frac{9}{2} \\rangle$\n",
    "\n",
    "$\\mid ^{3} P _ 1, \\frac{11}{2}, \\frac{9}{2}\\rangle = \\frac{\\sqrt{2}}{\\sqrt{11}}\\mid ^{3} P _ 1, 0, \\frac{9}{2} \\rangle + \\frac{3}{\\sqrt{11}} \\mid ^{3} P _ 1, 1, \\frac{7}{2} \\rangle $\n",
    "\n",
    "$\\mid ^{3} P _ 1, \\frac{11}{2}, \\frac{7}{2}\\rangle = \\frac{1}{\\sqrt{55}}\\mid ^{3} P _ 1, -1, \\frac{9}{2} \\rangle + \\frac{3\\sqrt{2}}{\\sqrt{55}} \\mid ^{3} P _ 1, 0, \\frac{7}{2} \\rangle+ \\frac{6}{\\sqrt{55}} \\mid ^{3} P _ 1, 1, \\frac{5}{2} \\rangle  $\n",
    "\n",
    "$\\mid ^{3} P _ 1, \\frac{11}{2}, \\frac{5}{2}\\rangle = \\frac{\\sqrt{3}}{\\sqrt{55}}\\mid ^{3} P _ 1, -1, \\frac{7}{2} \\rangle + \\frac{2\\sqrt{6}}{\\sqrt{55}} \\mid ^{3} P _ 1, 0, \\frac{5}{2} \\rangle+ \\frac{2 \\sqrt{7}}{\\sqrt{55}} \\mid ^{3} P _ 1, 1, \\frac{3}{2} \\rangle  $\n",
    "\n",
    "$\\mid ^{3} P _ 1, \\frac{11}{2}, \\frac{3}{2}\\rangle = \\frac{\\sqrt{6}}{\\sqrt{55}}\\mid ^{3} P _ 1, -1, \\frac{5}{2} \\rangle + \\frac{2\\sqrt{7}}{\\sqrt{55}} \\mid ^{3} P _ 1, 0, \\frac{3}{2} \\rangle+ \\frac{\\sqrt{21}}{\\sqrt{55}} \\mid ^{3} P _ 1, 1, \\frac{1}{2} \\rangle  $\n",
    "\n",
    "....\n",
    "\n",
    "Too complicated"
   ]
  },
  {
   "cell_type": "markdown",
   "metadata": {},
   "source": [
    "### $^3P_1$  $^3P_2$ $^1P_1$states"
   ]
  },
  {
   "cell_type": "code",
   "execution_count": 8,
   "metadata": {
    "collapsed": false
   },
   "outputs": [
    {
     "name": "stdout",
     "output_type": "stream",
     "text": [
      "CG_3P2_5\n",
      "[ 1.  0.  0.]\n",
      "[('3P1', 1.0, 4.5, -1.0, -4.5, 5.5, -5.5)\n",
      " ('3P1', 1.0, 4.5, 0.0, -5.5, 5.5, -5.5)\n",
      " ('3P1', 1.0, 4.5, 1.0, -6.5, 5.5, -5.5)]\n"
     ]
    }
   ],
   "source": [
    "# CG coefficients\n",
    "\n",
    "from sympy.physics.quantum.cg import CG\n",
    "from sympy import S\n",
    "from numpy import zeros, ones, array\n",
    "\n",
    "# 3P1 states, F = 11/2, 9/2...\n",
    "CG_3P1_11 = zeros((12,3))\n",
    "CG_3P1_9 = zeros((10,3))\n",
    "CG_3P1_7 = zeros((8,3))\n",
    "CG_3P2_13 = zeros((14,5))\n",
    "CG_3P2_11 = zeros((12,5))\n",
    "CG_3P2_9 = zeros((10,5))\n",
    "CG_3P2_7 = zeros((8,5))\n",
    "CG_3P2_5 = zeros((6,5))\n",
    "CG_1P1_11 = zeros((12,3))\n",
    "CG_1P1_9 = zeros((10,3))\n",
    "CG_1P1_7 = zeros((8,3))\n",
    "CG_3P0_9 = ones((10,1))\n",
    "\n",
    "print 'CG_3P' + str(2) + '_' + str(5)\n",
    "\n",
    "# 3P1, J, I, m_J, m_I, F, m_F\n",
    "Eigen_3P1_11 = zeros((12,3),dtype='S3, d, d, d, d, d, d')\n",
    "Eigen_3P1_9 = zeros((10,3),dtype='S3, d, d, d, d, d, d')\n",
    "Eigen_3P1_7 = zeros((8,3),dtype='S3, d, d, d, d, d, d')\n",
    "Eigen_3P2_13 = zeros((14,5),dtype='S3, d, d, d, d, d, d')\n",
    "Eigen_3P2_11 = zeros((12,5),dtype='S3, d, d, d, d, d, d')\n",
    "Eigen_3P2_9 = zeros((10,5),dtype='S3, d, d, d, d, d, d')\n",
    "Eigen_3P2_7 = zeros((8,5),dtype='S3, d, d, d, d, d, d')\n",
    "Eigen_3P2_5 = zeros((6,5),dtype='S3, d, d, d, d, d, d')\n",
    "Eigen_1P1_11 = zeros((12,3),dtype='S3, d, d, d, d, d, d')\n",
    "Eigen_1P1_9 = zeros((10,3),dtype='S3, d, d, d, d, d, d')\n",
    "Eigen_1P1_7 = zeros((8,3),dtype='S3, d, d, d, d, d, d')\n",
    "Eigen_3P0_9 = zeros((10,1),dtype='S3, d, d, d, d, d, d')\n",
    "\n",
    "CGcoefficients = [CG_3P1_11, CG_3P1_9, CG_3P1_7, CG_3P2_13, CG_3P2_11, CG_3P2_9, CG_3P2_7, CG_3P2_5, CG_1P1_11, CG_1P1_9, CG_1P1_7, CG_3P0_9]\n",
    "Eigenvalues = [Eigen_3P1_11, Eigen_3P1_9, Eigen_3P1_7, Eigen_3P2_13, Eigen_3P2_11, Eigen_3P2_9, Eigen_3P2_7, Eigen_3P2_5, Eigen_1P1_11, Eigen_1P1_9, Eigen_1P1_7, Eigen_3P0_9]\n",
    "\n",
    "\n",
    "# 3P1 & 1P1 states\n",
    "# (p, m, n) indexes, (k, i, j) = (F, m_F, m_J)\n",
    "for p, k in enumerate(range(11, 5, -2)):\n",
    "    for m, i in enumerate(range(-k, k + 2, 2)):\n",
    "        for n, j in enumerate(range(-1, 2, 1)):\n",
    "            cg = CG(1, j, S(9)/2, S(i)/2 - j, S(k)/2, S(i)/2)\n",
    "            CGcoefficients[p][m][n] = cg.doit()\n",
    "            Eigenvalues[p][m][n][0] = '3P1'\n",
    "            Eigenvalues[p][m][n][1] = 1\n",
    "            Eigenvalues[p][m][n][2] = 9/2\n",
    "            Eigenvalues[p][m][n][3] = j \n",
    "            Eigenvalues[p][m][n][4] = i/2 - j\n",
    "            Eigenvalues[p][m][n][5] = k/2\n",
    "            Eigenvalues[p][m][n][6] = i/2\n",
    "            CGcoefficients[p + 8][m][n] = cg.doit()\n",
    "            Eigenvalues[p + 8][m][n][0] = '1P1'\n",
    "            Eigenvalues[p + 8][m][n][1] = 1\n",
    "            Eigenvalues[p + 8][m][n][2] = 9/2\n",
    "            Eigenvalues[p + 8][m][n][3] = j \n",
    "            Eigenvalues[p + 8][m][n][4] = i/2 - j\n",
    "            Eigenvalues[p + 8][m][n][5] = k/2\n",
    "            Eigenvalues[p + 8][m][n][6] = i/2\n",
    "            \n",
    "# 3P2 states\n",
    "for p, k in enumerate(range(13, 3, -2)):\n",
    "    for m, i in enumerate(range(-k, k + 2, 2)):\n",
    "        for n, j in enumerate(range(-2, 3, 1)):\n",
    "            cg = CG(2, j, S(9)/2, S(i)/2 - j, S(k)/2, S(i)/2)\n",
    "            CGcoefficients[p + 3][m][n] = cg.doit()\n",
    "            Eigenvalues[p + 3][m][n][0] = '3P2'\n",
    "            Eigenvalues[p + 3][m][n][1] = 2\n",
    "            Eigenvalues[p + 3][m][n][2] = 9/2\n",
    "            Eigenvalues[p + 3][m][n][3] = j\n",
    "            Eigenvalues[p + 3][m][n][4] = i/2 - j\n",
    "            Eigenvalues[p + 3][m][n][5] = k/2\n",
    "            Eigenvalues[p + 3][m][n][6] = i/2\n",
    "            \n",
    "\n",
    "# 3P0 state\n",
    "\n",
    "for m, i in enumerate(range(-9, 11, 2)):\n",
    "    Eigenvalues[11][m][0][0] = '3P0'\n",
    "    Eigenvalues[11][m][0][1] = 1\n",
    "    Eigenvalues[11][m][0][2] = 9/2\n",
    "    Eigenvalues[11][m][0][3] = 0\n",
    "    Eigenvalues[11][m][0][4] = i/2\n",
    "    Eigenvalues[11][m][0][5] = 9/2\n",
    "    Eigenvalues[11][m][0][6] = i/2\n",
    "         \n",
    "print CG_3P1_11[0]\n",
    "print Eigen_3P1_11[0]"
   ]
  },
  {
   "cell_type": "markdown",
   "metadata": {},
   "source": [
    "# Matrix elements of HFI"
   ]
  },
  {
   "cell_type": "markdown",
   "metadata": {},
   "source": [
    "$ H_{HF} = A \\vec{I} \\cdot \\vec{J} + Q \\frac{\\frac{3}{2} \\vec{I} \\cdot \\vec{J} (2 \\vec{I} \\cdot \\vec{J} + 1) - IJ(I+1) (J+1)}{2IJ(2I-1)(2J-1)}$\n",
    "\n",
    "Using $\\vec{I} \\cdot \\vec{J} = I_z J_z + \\frac{1}{2} (I_+ J_- + I_- J_+)$\n",
    "\n",
    "$J_+ \\mid {J, m_J} \\rangle = \\hbar \\sqrt{(J - m_J)(J + m_J + 1)} \\mid {J, m_J + 1} \\rangle$\n",
    "\n",
    "$J_- \\mid {J, m_J} \\rangle = \\hbar \\sqrt{(J + m_J)(J - m_J + 1)} \\mid {J, m_J - 1} \\rangle$\n",
    "\n",
    "and similar for $I_+, I_-$\n",
    "\n",
    "$I_- J_+ \\mid {J, I, m_J, m_I} \\rangle = \\sqrt{(I + m_I)(I - m_I + 1)}\\sqrt{(J - m_J)(J + m_J + 1)} \\mid {J, I, m_J + 1, m_I - 1} \\rangle$\n",
    "\n",
    "$I_+ J_- \\mid {J, I, m_J, m_I} \\rangle =  \\sqrt{(I - m_I)(I + m_I + 1)}\\sqrt{(J + m_J)(J - m_J + 1)} \\mid {J, I, m_J - 1, m_I + 1} \\rangle$\n",
    "\n",
    "Then \n",
    "\n",
    "$\\vec{I} \\cdot \\vec{J} \\mid J, \\frac{9}{2}, m_J, m_I \\rangle = m_I m_J \\mid {J, \\frac{9}{2}, m_J, m_I} \\rangle + \\frac{1}{2}  \\sqrt{(\\frac{9}{2} - m_I)(\\frac{9}{2} + m_I + 1)}\\sqrt{(J + m_J)(J - m_J + 1)} \\mid {J, \\frac{9}{2}, m_J - 1, m_I + 1} \\rangle + \\frac{1}{2} \\sqrt{(\\frac{9}{2} + m_I)(\\frac{9}{2} - m_I + 1)}\\sqrt{(J - m_J)(J + m_J + 1)} \\mid {J, \\frac{9}{2}, m_J + 1, m_I - 1} \\rangle$\n",
    "\n",
    "$H_{HF}$ only couples states with the same $J, I, m_J + m_I = m_F$\n",
    "\n",
    "$\\langle J_1, m_{J_1}, m_{I_1}  \\mid H_{HF} \\mid J, m_{J}, m_{I} \\rangle = (A + \\frac{3}{2} Q \\frac{1}{2IJ(2I-1)(2J-1)})(\\frac{1}{2}  \\sqrt{(\\frac{9}{2} - m_I)(\\frac{9}{2} + m_I + 1)}\\sqrt{(J + m_J)(J - m_J + 1)} \\delta_{J_1, J} \\delta{m_{J_1}, m_{J} - 1} \\delta{m_{I_1}, m_{I} + 1} + \\frac{1}{2} \\sqrt{(\\frac{9}{2} + m_I)(\\frac{9}{2} - m_I + 1)}\\sqrt{(J - m_J)(J + m_J + 1)} \\delta_{J_1, J} \\delta{m_{J_1}, m_{J} + 1} \\delta{m_{I_1}, m_{I} -1} + (A m_I m_J+  Q \\frac{ \\frac{3}{2}m_I m_J - IJ(I+1)(J+1)}{2IJ(2I-1)(2J-1)})\\delta_{J_1, J} \\delta{m_{J_1}, m_{J}} \\delta{m_{I_1}, m_{I}} + 3 Q \\frac{1}{2IJ(2I-1)(2J-1)}\\vec{I} \\cdot \\vec{J} \\vec{I} \\cdot \\vec{J}$\n",
    "\n",
    "\n",
    "...\n",
    "\n",
    "Too complicated"
   ]
  },
  {
   "cell_type": "markdown",
   "metadata": {},
   "source": [
    "## 1. $m_F = -\\frac{13}{2}$"
   ]
  },
  {
   "cell_type": "markdown",
   "metadata": {},
   "source": [
    "The only possibility is $\\mid ^{3} P _ 2, \\frac{13}{2}, -\\frac{13}{2}\\rangle = \\mid ^{3} P_ 2, -2, -\\frac{9}{2}\\rangle $"
   ]
  },
  {
   "cell_type": "markdown",
   "metadata": {},
   "source": [
    "## 2. $m_F = -\\frac{11}{2}$"
   ]
  },
  {
   "cell_type": "markdown",
   "metadata": {},
   "source": [
    "The possibilities are\n",
    "\n",
    "$\\mid ^{3} P _ 2, \\frac{13}{2}, -\\frac{11}{2}\\rangle = 0.83205029 \\mid ^{3} P_ 2, -2, -\\frac{7}{2}\\rangle + 0.5547002  \\mid ^{3} P_ 2, -1, -\\frac{9}{2}\\rangle $\n",
    "\n",
    "$\\mid ^{3} P _ 2, \\frac{11}{2}, -\\frac{11}{2}\\rangle = -0.5547002 \\mid ^{3} P_ 2, -2, -\\frac{7}{2}\\rangle + 0.83205029 \\mid ^{3} P_ 2, -1, -\\frac{9}{2}\\rangle $\n",
    "\n",
    "$\\mid ^{3} P _ 1, \\frac{11}{2}, -\\frac{11}{2}\\rangle = \\mid ^{3} P_ 1, -1, -\\frac{9}{2}\\rangle $\n",
    "\n",
    "$\\mid ^{1} P _ 1, \\frac{11}{2}, -\\frac{11}{2}\\rangle = \\mid ^{3} P_ 1, -1, -\\frac{9}{2}\\rangle $"
   ]
  },
  {
   "cell_type": "code",
   "execution_count": 9,
   "metadata": {
    "collapsed": false
   },
   "outputs": [],
   "source": [
    "# Sort the same m_F states and put them into a matrix\n",
    "\n",
    "def Subspace(mf):\n",
    "    result = []\n",
    "    for n, c in enumerate(Eigenvalues):\n",
    "        for m in range(len(c)):\n",
    "            if c[m][0][6] == mf:\n",
    "                result.append((n, m))\n",
    "    return result"
   ]
  },
  {
   "cell_type": "code",
   "execution_count": 44,
   "metadata": {
    "collapsed": false
   },
   "outputs": [
    {
     "name": "stdout",
     "output_type": "stream",
     "text": [
      "3\n",
      "[('3P1', 1.0, 4.5, -1.0, -4.5, 5.5, -5.5)\n",
      " ('3P1', 1.0, 4.5, 0.0, -5.5, 5.5, -5.5)\n",
      " ('3P1', 1.0, 4.5, 1.0, -6.5, 5.5, -5.5)]\n",
      "5\n",
      "[('3P2', 2.0, 4.5, -2.0, -3.5, 6.5, -5.5)\n",
      " ('3P2', 2.0, 4.5, -1.0, -4.5, 6.5, -5.5)\n",
      " ('3P2', 2.0, 4.5, 0.0, -5.5, 6.5, -5.5)\n",
      " ('3P2', 2.0, 4.5, 1.0, -6.5, 6.5, -5.5)\n",
      " ('3P2', 2.0, 4.5, 2.0, -7.5, 6.5, -5.5)]\n",
      "5\n",
      "[('3P2', 2.0, 4.5, -2.0, -3.5, 5.5, -5.5)\n",
      " ('3P2', 2.0, 4.5, -1.0, -4.5, 5.5, -5.5)\n",
      " ('3P2', 2.0, 4.5, 0.0, -5.5, 5.5, -5.5)\n",
      " ('3P2', 2.0, 4.5, 1.0, -6.5, 5.5, -5.5)\n",
      " ('3P2', 2.0, 4.5, 2.0, -7.5, 5.5, -5.5)]\n",
      "3\n",
      "[('1P1', 1.0, 4.5, -1.0, -4.5, 5.5, -5.5)\n",
      " ('1P1', 1.0, 4.5, 0.0, -5.5, 5.5, -5.5)\n",
      " ('1P1', 1.0, 4.5, 1.0, -6.5, 5.5, -5.5)]\n",
      "[(0, 10), (1, 9), (3, 11), (4, 10), (5, 9), (8, 10), (9, 9), (11, 9)]\n"
     ]
    }
   ],
   "source": [
    "for i, n in enumerate(Subspace(-11/2)):\n",
    "    print len(CGcoefficients[n[0]][n[1]])\n",
    "    print Eigenvalues[n[0]][n[1]]\n",
    "print Subspace(9/2)"
   ]
  },
  {
   "cell_type": "code",
   "execution_count": null,
   "metadata": {
    "collapsed": true
   },
   "outputs": [],
   "source": [
    "# I dot J Hamiltonian, returns a matrix that has the same dimension as CG and Eigen matrices, operates on the CG vector\n",
    "# * * * * *    m_J = -2\n",
    "# * * * * *    m_J = -1\n",
    "# * * * * *    m_J = 0\n",
    "# * * * * *    m_J = 1\n",
    "# * * * * *    m_J = 2\n",
    "\n",
    "def IJ(n, m):\n",
    "    l = len(CGcoefficients[n][m])\n",
    "    result = zeros((l, l))\n",
    "    for i in range(l):\n",
    "        if (CGcoefficients[n][m][i] != 0):\n",
    "            for j in range(l):\n",
    "                #if CGcoefficients[n][m]\n",
    "                if (i == (j + 1)):            # I_+ J_- term\n",
    "                    result[i][j] = 0.5 * sqrt(Eigenvalues[n][m][i][2] * (Eigenvalues[n][m][i][2] + 1) - Eigenvalues[n][m][i][4] * (Eigenvalues[n][m][i][4] + 1)) * sqrt(Eigenvalues[n][m][i][1] * (Eigenvalues[n][m][i][1] + 1) - Eigenvalues[n][m][i][3] * (Eigenvalues[n][m][i][3] - 1))\n",
    "                if (i == (j - 1)):            # I_- J_+ term     \n",
    "                    result[i][j] = 0.5 * sqrt(Eigenvalues[n][m][i][2] * (Eigenvalues[n][m][i][2] + 1) - Eigenvalues[n][m][i][4] * (Eigenvalues[n][m][i][4] - 1)) * sqrt(Eigenvalues[n][m][i][1] * (Eigenvalues[n][m][i][1] + 1) - Eigenvalues[n][m][i][3] * (Eigenvalues[n][m][i][3] + 1))\n",
    "                if (i == j):                  # I_z J_z term\n",
    "                    result[i][j] = Eigenvalues[n][m][i][3] * Eigenvalues[n][m][i][4]\n",
    "    return result"
   ]
  },
  {
   "cell_type": "code",
   "execution_count": 49,
   "metadata": {
    "collapsed": false
   },
   "outputs": [
    {
     "name": "stdout",
     "output_type": "stream",
     "text": [
      "[[ 20.25   0.     0.  ]\n",
      " [  0.     0.     0.  ]\n",
      " [  0.     0.     0.  ]]\n"
     ]
    }
   ],
   "source": [
    "print dot(IJ(0,0), IJ(0,0))"
   ]
  },
  {
   "cell_type": "code",
   "execution_count": 50,
   "metadata": {
    "collapsed": false
   },
   "outputs": [],
   "source": [
    "# Hyperfine interaction Hamiltonian, returns a matrix similar to IJ\n",
    "# Energy in units of MHz\n",
    "from numpy import dot\n",
    "\n",
    "def HF(n, m):\n",
    "    A = 0\n",
    "    Q = 0\n",
    "    if (Eigenvalues[n][m][0][0] == '3P1'):\n",
    "        A = A_3P1\n",
    "        Q = Q_3P1\n",
    "    if (Eigenvalues[n][m][0][0] == '3P2'):\n",
    "        A = A_3P2\n",
    "        Q = Q_3P2\n",
    "    if (Eigenvalues[n][m][0][0] == '1P1'):\n",
    "        A = A_1P1\n",
    "        Q = Q_1P1\n",
    "    temp = IJ(n, m)\n",
    "    I = Eigenvalues[n][m][0][2]\n",
    "    J = Eigenvalues[n][m][0][1]\n",
    "    result = A * temp + Q * (3 * dot(temp, temp) + 1.5 * temp - I * J * (I + 1) * (J + 1))/(2 * I * J * (2 * I - 1) * (2 * J - 1))\n",
    "    return result\n",
    "\n",
    "def matrix_element_HF(n1, m1, n2, m2):\n",
    "    result = 0\n",
    "    if (n1 == n2):\n",
    "        result = dot(CGcoefficients[n1][m1], dot(HF(n2, m2), CGcoefficients[n2][m2]))\n",
    "    return result"
   ]
  },
  {
   "cell_type": "code",
   "execution_count": 51,
   "metadata": {
    "collapsed": false
   },
   "outputs": [
    {
     "name": "stdout",
     "output_type": "stream",
     "text": [
      "0\n"
     ]
    }
   ],
   "source": [
    "print matrix_element_HF(2, 3, 0, 0)"
   ]
  },
  {
   "cell_type": "code",
   "execution_count": 52,
   "metadata": {
    "collapsed": false
   },
   "outputs": [],
   "source": [
    "# HF Hamiltonian in m_F = f subspace\n",
    "\n",
    "def HF_subspace(f):\n",
    "    l = len(Subspace(f))\n",
    "    result = zeros((l, l))\n",
    "    for i, n in enumerate(Subspace(f)):\n",
    "        for j, m in enumerate(Subspace(f)):\n",
    "            result[i][j] = matrix_element_HF(n[0], n[1], m[0], m[1])\n",
    "    return result"
   ]
  },
  {
   "cell_type": "code",
   "execution_count": 53,
   "metadata": {
    "collapsed": false
   },
   "outputs": [
    {
     "name": "stdout",
     "output_type": "stream",
     "text": [
      "[[-1178.75           0.             0.             0.        ]\n",
      " [    0.         -1912.50961538     0.             0.        ]\n",
      " [    0.             0.          -528.28205128     0.        ]\n",
      " [    0.             0.             0.            -5.55      ]]\n",
      "[(0, 11), (3, 12), (4, 11), (8, 11)]\n"
     ]
    }
   ],
   "source": [
    "print HF_subspace(11/2)\n",
    "print Subspace(11 /2 )"
   ]
  },
  {
   "cell_type": "code",
   "execution_count": 54,
   "metadata": {
    "collapsed": false
   },
   "outputs": [
    {
     "name": "stdout",
     "output_type": "stream",
     "text": [
      "         0            1           2     3\n",
      "0 -1178.75     0.000000    0.000000  0.00\n",
      "1     0.00 -1912.509615    0.000000  0.00\n",
      "2     0.00     0.000000 -528.282051  0.00\n",
      "3     0.00     0.000000    0.000000 -5.55\n",
      "\n",
      "[4 rows x 4 columns]\n"
     ]
    }
   ],
   "source": [
    "from pandas import DataFrame\n",
    "print DataFrame(HF_subspace(11/2))"
   ]
  },
  {
   "cell_type": "code",
   "execution_count": 56,
   "metadata": {
    "collapsed": false
   },
   "outputs": [
    {
     "name": "stdout",
     "output_type": "stream",
     "text": [
      "[(0, 10), (1, 9), (3, 11), (4, 10), (5, 9), (8, 10), (9, 9), (11, 9)]\n",
      "3\n",
      "[('3P1', 1.0, 4.5, -1.0, 5.5, 5.5, 4.5)\n",
      " ('3P1', 1.0, 4.5, 0.0, 4.5, 5.5, 4.5)\n",
      " ('3P1', 1.0, 4.5, 1.0, 3.5, 5.5, 4.5)]\n",
      "3\n",
      "[('3P1', 1.0, 4.5, -1.0, 5.5, 4.5, 4.5)\n",
      " ('3P1', 1.0, 4.5, 0.0, 4.5, 4.5, 4.5)\n",
      " ('3P1', 1.0, 4.5, 1.0, 3.5, 4.5, 4.5)]\n",
      "5\n",
      "[('3P2', 2.0, 4.5, -2.0, 6.5, 6.5, 4.5)\n",
      " ('3P2', 2.0, 4.5, -1.0, 5.5, 6.5, 4.5)\n",
      " ('3P2', 2.0, 4.5, 0.0, 4.5, 6.5, 4.5)\n",
      " ('3P2', 2.0, 4.5, 1.0, 3.5, 6.5, 4.5)\n",
      " ('3P2', 2.0, 4.5, 2.0, 2.5, 6.5, 4.5)]\n",
      "5\n",
      "[('3P2', 2.0, 4.5, -2.0, 6.5, 5.5, 4.5)\n",
      " ('3P2', 2.0, 4.5, -1.0, 5.5, 5.5, 4.5)\n",
      " ('3P2', 2.0, 4.5, 0.0, 4.5, 5.5, 4.5)\n",
      " ('3P2', 2.0, 4.5, 1.0, 3.5, 5.5, 4.5)\n",
      " ('3P2', 2.0, 4.5, 2.0, 2.5, 5.5, 4.5)]\n",
      "5\n",
      "[('3P2', 2.0, 4.5, -2.0, 6.5, 4.5, 4.5)\n",
      " ('3P2', 2.0, 4.5, -1.0, 5.5, 4.5, 4.5)\n",
      " ('3P2', 2.0, 4.5, 0.0, 4.5, 4.5, 4.5)\n",
      " ('3P2', 2.0, 4.5, 1.0, 3.5, 4.5, 4.5)\n",
      " ('3P2', 2.0, 4.5, 2.0, 2.5, 4.5, 4.5)]\n",
      "3\n",
      "[('1P1', 1.0, 4.5, -1.0, 5.5, 5.5, 4.5)\n",
      " ('1P1', 1.0, 4.5, 0.0, 4.5, 5.5, 4.5)\n",
      " ('1P1', 1.0, 4.5, 1.0, 3.5, 5.5, 4.5)]\n",
      "3\n",
      "[('1P1', 1.0, 4.5, -1.0, 5.5, 4.5, 4.5)\n",
      " ('1P1', 1.0, 4.5, 0.0, 4.5, 4.5, 4.5)\n",
      " ('1P1', 1.0, 4.5, 1.0, 3.5, 4.5, 4.5)]\n",
      "1\n",
      "[('3P0', 1.0, 4.5, 0.0, 4.5, 4.5, 4.5)]\n",
      "[ -1.16018845e+03   2.64771780e+02  -1.92986802e+03  -5.29555886e+02\n",
      "   6.35090572e+02  -2.62328733e+01  -1.91712665e+00   0.00000000e+00]\n",
      "[[ 1.  0.  0.  0.  0.  0.  0.  0.]\n",
      " [ 0.  1.  0.  0.  0.  0.  0.  0.]\n",
      " [ 0.  0.  1.  0.  0.  0.  0.  0.]\n",
      " [ 0.  0.  0.  1.  0.  0.  0.  0.]\n",
      " [ 0.  0.  0.  0.  1.  0.  0.  0.]\n",
      " [ 0.  0.  0.  0.  0.  1.  0.  0.]\n",
      " [ 0.  0.  0.  0.  0.  0.  1.  0.]\n",
      " [ 0.  0.  0.  0.  0.  0.  0.  1.]]\n"
     ]
    }
   ],
   "source": [
    "from numpy import linalg as LA\n",
    "\n",
    "w, v = LA.eig(HF_subspace(9/2))\n",
    "print Subspace(9/2)\n",
    "for i, n in enumerate(Subspace(9/2)):\n",
    "    print len(CGcoefficients[n[0]][n[1]])\n",
    "    print Eigenvalues[n[0]][n[1]]\n",
    "print w\n",
    "print v"
   ]
  },
  {
   "cell_type": "code",
   "execution_count": 57,
   "metadata": {
    "collapsed": false
   },
   "outputs": [
    {
     "name": "stdout",
     "output_type": "stream",
     "text": [
      "[(0, 1), (1, 0), (3, 2), (4, 1), (5, 0), (8, 1), (9, 0), (11, 0)]\n",
      "[ -1.16018845e+03   2.64771780e+02  -1.92986802e+03  -5.29555886e+02\n",
      "   6.35090572e+02  -2.62328733e+01  -1.91712665e+00  -0.00000000e+00]\n",
      "[[ 1.  0.  0.  0.  0.  0.  0.  0.]\n",
      " [ 0.  1.  0.  0.  0.  0.  0.  0.]\n",
      " [ 0.  0.  1.  0.  0.  0.  0.  0.]\n",
      " [ 0.  0.  0.  1.  0.  0.  0.  0.]\n",
      " [ 0.  0.  0.  0.  1.  0.  0.  0.]\n",
      " [ 0.  0.  0.  0.  0.  1.  0.  0.]\n",
      " [ 0.  0.  0.  0.  0.  0.  1.  0.]\n",
      " [ 0.  0.  0.  0.  0.  0.  0.  1.]]\n"
     ]
    }
   ],
   "source": [
    "w, v = LA.eig(HF_subspace(-9/2))\n",
    "print Subspace(-9/2)\n",
    "print w\n",
    "print v"
   ]
  },
  {
   "cell_type": "code",
   "execution_count": 59,
   "metadata": {
    "collapsed": false
   },
   "outputs": [
    {
     "name": "stdout",
     "output_type": "stream",
     "text": [
      "[(3, 0)]\n",
      "[-1891.25]\n",
      "[(0, 0), (3, 1), (4, 0), (8, 0)]\n",
      "[-1178.75       -1912.50961538  -528.28205128    -5.55      ]\n",
      "[(0, 1), (1, 0), (3, 2), (4, 1), (5, 0), (8, 1), (9, 0), (11, 0)]\n",
      "[ -1.16018845e+03   2.64771780e+02  -1.92986802e+03  -5.29555886e+02\n",
      "   6.35090572e+02  -2.62328733e+01  -1.91712665e+00  -0.00000000e+00]\n",
      "[(0, 2), (1, 1), (2, 0), (3, 3), (4, 2), (5, 1), (6, 0), (8, 2), (9, 1), (10, 0), (11, 1)]\n",
      "[-1147.51382579   266.85441218  1399.20108027 -1943.19763209  -529.61420192\n",
      "   627.98560323  1611.88873077   -40.35602269    -4.23777358    53.01879627\n",
      "    -0.        ]\n",
      "[(0, 3), (1, 2), (2, 1), (3, 4), (4, 3), (5, 2), (6, 1), (7, 0), (8, 3), (9, 2), (10, 1), (11, 2)]\n",
      "[ -1.14062328e+03   2.63509704e+02   1.39565524e+03  -1.95283168e+03\n",
      "  -5.28735792e+02   6.21452872e+02   1.60932921e+03   2.38055623e+03\n",
      "  -4.80340607e+01  -5.10812856e-01   5.69698735e+01  -0.00000000e+00]\n",
      "[(0, 4), (1, 3), (2, 2), (3, 5), (4, 4), (5, 3), (6, 2), (7, 1), (8, 4), (9, 3), (10, 2), (11, 3)]\n",
      "[-1136.36923074   260.85444905  1394.05644836 -1958.74651982  -527.3957563\n",
      "   619.94791667  1612.41906184  2383.54613095   -52.77428574     2.44789963\n",
      "    58.75138611    -0.        ]\n",
      "[(0, 5), (1, 4), (2, 3), (3, 6), (4, 5), (5, 4), (6, 3), (7, 2), (8, 5), (9, 4), (10, 3), (11, 4)]\n",
      "[-1134.3164848    259.44940166  1393.40874981 -1961.66409952  -526.61299632\n",
      "   619.42606547  1614.19866046  2384.42320325   -55.06163122     4.01352386\n",
      "    59.47310736    -0.        ]\n",
      "[(0, 6), (1, 5), (2, 4), (3, 7), (4, 6), (5, 5), (6, 4), (7, 3), (8, 6), (9, 5), (10, 4), (11, 5)]\n",
      "[-1134.3164848    259.44940166  1393.40874981 -1961.66409952  -526.61299632\n",
      "   619.42606547  1614.19866046  2384.42320325   -55.06163122     4.01352386\n",
      "    59.47310736     0.        ]\n",
      "[(0, 7), (1, 6), (2, 5), (3, 8), (4, 7), (5, 6), (6, 5), (7, 4), (8, 7), (9, 6), (10, 5), (11, 6)]\n",
      "[-1136.36923074   260.85444905  1394.05644836 -1958.74651982  -527.3957563\n",
      "   619.94791667  1612.41906184  2383.54613095   -52.77428574     2.44789963\n",
      "    58.75138611     0.        ]\n",
      "[(0, 8), (1, 7), (2, 6), (3, 9), (4, 8), (5, 7), (6, 6), (7, 5), (8, 8), (9, 7), (10, 6), (11, 7)]\n",
      "[ -1.14062328e+03   2.63509704e+02   1.39565524e+03  -1.95283168e+03\n",
      "  -5.28735792e+02   6.21452872e+02   1.60932921e+03   2.38055623e+03\n",
      "  -4.80340607e+01  -5.10812856e-01   5.69698735e+01   0.00000000e+00]\n",
      "[(0, 9), (1, 8), (2, 7), (3, 10), (4, 9), (5, 8), (6, 7), (8, 9), (9, 8), (10, 7), (11, 8)]\n",
      "[-1147.51382579   266.85441218  1399.20108027 -1943.19763209  -529.61420192\n",
      "   627.98560323  1611.88873077   -40.35602269    -4.23777358    53.01879627\n",
      "     0.        ]\n",
      "[(0, 10), (1, 9), (3, 11), (4, 10), (5, 9), (8, 10), (9, 9), (11, 9)]\n",
      "[ -1.16018845e+03   2.64771780e+02  -1.92986802e+03  -5.29555886e+02\n",
      "   6.35090572e+02  -2.62328733e+01  -1.91712665e+00   0.00000000e+00]\n",
      "[(0, 11), (3, 12), (4, 11), (8, 11)]\n",
      "[-1178.75       -1912.50961538  -528.28205128    -5.55      ]\n",
      "[(3, 13)]\n",
      "[-1891.25]\n"
     ]
    }
   ],
   "source": [
    "for i in range(-13, 15, 2):\n",
    "    print Subspace(i / 2)\n",
    "    print LA.eig(HF_subspace(i/2))[0]"
   ]
  },
  {
   "cell_type": "code",
   "execution_count": null,
   "metadata": {
    "collapsed": true
   },
   "outputs": [],
   "source": []
  },
  {
   "cell_type": "code",
   "execution_count": null,
   "metadata": {
    "collapsed": true
   },
   "outputs": [],
   "source": []
  }
 ],
 "metadata": {
  "kernelspec": {
   "display_name": "Python 2",
   "language": "python",
   "name": "python2"
  },
  "language_info": {
   "codemirror_mode": {
    "name": "ipython",
    "version": 2
   },
   "file_extension": ".py",
   "mimetype": "text/x-python",
   "name": "python",
   "nbconvert_exporter": "python",
   "pygments_lexer": "ipython2",
   "version": "2.7.6"
  }
 },
 "nbformat": 4,
 "nbformat_minor": 0
}
